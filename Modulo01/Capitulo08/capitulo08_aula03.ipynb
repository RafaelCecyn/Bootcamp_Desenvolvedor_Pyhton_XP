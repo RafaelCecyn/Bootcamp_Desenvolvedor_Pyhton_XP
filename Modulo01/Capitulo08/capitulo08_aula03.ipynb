{
 "cells": [
  {
   "attachments": {},
   "cell_type": "markdown",
   "metadata": {},
   "source": [
    "# Capítulo 08 - Manipulação de Arquivos\n"
   ]
  },
  {
   "attachments": {},
   "cell_type": "markdown",
   "metadata": {},
   "source": [
    "## Vamos utilizar o mesmo arquivo da aula passada."
   ]
  },
  {
   "cell_type": "code",
   "execution_count": 5,
   "metadata": {},
   "outputs": [],
   "source": [
    "arquivo = open('cidades.txt','a')\n",
    "arquivo.write('RJ; São Gonçalo; 1031903\\n')\n",
    "arquivo.close()"
   ]
  },
  {
   "cell_type": "code",
   "execution_count": 6,
   "metadata": {},
   "outputs": [],
   "source": [
    "linhas = [\n",
    "    'AL; Maceió; 1000\\n',\n",
    "    'RJ; Duque de Caxais; 8999\\n'\n",
    "]\n",
    "arquivo = open('cidades.txt','a')\n",
    "arquivo.writelines(linhas)\n",
    "arquivo.close()\n",
    "\n"
   ]
  }
 ],
 "metadata": {
  "kernelspec": {
   "display_name": "Python 3",
   "language": "python",
   "name": "python3"
  },
  "language_info": {
   "codemirror_mode": {
    "name": "ipython",
    "version": 3
   },
   "file_extension": ".py",
   "mimetype": "text/x-python",
   "name": "python",
   "nbconvert_exporter": "python",
   "pygments_lexer": "ipython3",
   "version": "3.11.3"
  },
  "orig_nbformat": 4
 },
 "nbformat": 4,
 "nbformat_minor": 2
}
