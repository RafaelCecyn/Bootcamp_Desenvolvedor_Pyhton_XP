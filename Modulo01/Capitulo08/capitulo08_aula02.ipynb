{
 "cells": [
  {
   "attachments": {},
   "cell_type": "markdown",
   "metadata": {},
   "source": [
    "# Capítulo 08 - Manipulação de Arquivos\n"
   ]
  },
  {
   "attachments": {},
   "cell_type": "markdown",
   "metadata": {},
   "source": [
    "## Aula 01 - Leitura de arquivos\n"
   ]
  },
  {
   "attachments": {},
   "cell_type": "markdown",
   "metadata": {},
   "source": [
    "## Vamos criar, manualmente, o arquivo cidades.txt, com o seguinte conteúdo:"
   ]
  },
  {
   "cell_type": "code",
   "execution_count": 1,
   "metadata": {},
   "outputs": [
    {
     "name": "stdout",
     "output_type": "stream",
     "text": [
      "SP; SÃ£o Paulo; 11895893\n",
      "RJ; Rio de Janeiro; 6453682\n",
      "BA; Salvador; 2902927\n",
      "DF; BrasÃ­lia; 2852372\n",
      "CE; Fortaleza; 2571896\n",
      "MG; Belo Horizonte; 2491109\n",
      "AM; Manaus; 2020301\n",
      "PR; Curitiba; 1864416\n",
      "\n"
     ]
    }
   ],
   "source": [
    "arquivo = open('cidades.txt', 'r')\n",
    "linhas = arquivo.read()\n",
    "arquivo.close()\n",
    "print(linhas)"
   ]
  },
  {
   "cell_type": "code",
   "execution_count": 2,
   "metadata": {},
   "outputs": [
    {
     "data": {
      "text/plain": [
       "str"
      ]
     },
     "execution_count": 2,
     "metadata": {},
     "output_type": "execute_result"
    }
   ],
   "source": [
    "type(linhas)"
   ]
  },
  {
   "cell_type": "code",
   "execution_count": 3,
   "metadata": {},
   "outputs": [
    {
     "name": "stdout",
     "output_type": "stream",
     "text": [
      "['SP; SÃ£o Paulo; 11895893\\n', 'RJ; Rio de Janeiro; 6453682\\n', 'BA; Salvador; 2902927\\n', 'DF; BrasÃ\\xadlia; 2852372\\n', 'CE; Fortaleza; 2571896\\n', 'MG; Belo Horizonte; 2491109\\n', 'AM; Manaus; 2020301\\n', 'PR; Curitiba; 1864416\\n']\n"
     ]
    }
   ],
   "source": [
    "arquivo = open('cidades.txt', 'r')\n",
    "linhas = arquivo.readlines()\n",
    "arquivo.close()\n",
    "print(linhas)"
   ]
  },
  {
   "cell_type": "code",
   "execution_count": 4,
   "metadata": {},
   "outputs": [
    {
     "data": {
      "text/plain": [
       "list"
      ]
     },
     "execution_count": 4,
     "metadata": {},
     "output_type": "execute_result"
    }
   ],
   "source": [
    "type(linhas)\n"
   ]
  },
  {
   "cell_type": "code",
   "execution_count": 5,
   "metadata": {},
   "outputs": [
    {
     "name": "stdout",
     "output_type": "stream",
     "text": [
      "['SP; SÃ£o Paulo; 11895893', 'RJ; Rio de Janeiro; 6453682', 'BA; Salvador; 2902927', 'DF; BrasÃ\\xadlia; 2852372', 'CE; Fortaleza; 2571896', 'MG; Belo Horizonte; 2491109', 'AM; Manaus; 2020301', 'PR; Curitiba; 1864416']\n"
     ]
    }
   ],
   "source": [
    "novas_linhas = []\n",
    "for linha in linhas:\n",
    "    novas_linhas.append(linha.rstrip())\n",
    "print(novas_linhas)"
   ]
  },
  {
   "cell_type": "code",
   "execution_count": 10,
   "metadata": {},
   "outputs": [
    {
     "name": "stdout",
     "output_type": "stream",
     "text": [
      "SP; SÃ£o Paulo; 11895893\n",
      "RJ; Rio de Janeiro; 6453682\n",
      "BA; Salvador; 2902927\n",
      "DF; BrasÃ­lia; 2852372\n",
      "CE; Fortaleza; 2571896\n",
      "MG; Belo Horizonte; 2491109\n",
      "AM; Manaus; 2020301\n",
      "PR; Curitiba; 1864416\n"
     ]
    }
   ],
   "source": [
    "arquivo = open('cidades.txt','r')\n",
    "for linha in arquivo:\n",
    "    print(linha.strip())\n",
    "arquivo.close()"
   ]
  },
  {
   "cell_type": "code",
   "execution_count": null,
   "metadata": {},
   "outputs": [],
   "source": [
    "arquivo = open('cidades.txt','r')\n",
    "soma = 0\n",
    "for linha in arquivo:\n",
    "    cidade = linha.split(' ')\n",
    "    populacao = int(cidade[-1])\n",
    "    print(populacao)\n",
    "    soma = soma + populacao\n",
    "arquivo.close()\n",
    "print('Total da soma final', soma)"
   ]
  }
 ],
 "metadata": {
  "kernelspec": {
   "display_name": "Python 3",
   "language": "python",
   "name": "python3"
  },
  "language_info": {
   "codemirror_mode": {
    "name": "ipython",
    "version": 3
   },
   "file_extension": ".py",
   "mimetype": "text/x-python",
   "name": "python",
   "nbconvert_exporter": "python",
   "pygments_lexer": "ipython3",
   "version": "3.11.3"
  },
  "orig_nbformat": 4
 },
 "nbformat": 4,
 "nbformat_minor": 2
}
