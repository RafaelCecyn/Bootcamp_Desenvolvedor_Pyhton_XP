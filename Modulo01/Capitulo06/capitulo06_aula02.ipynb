{
 "cells": [
  {
   "attachments": {},
   "cell_type": "markdown",
   "metadata": {},
   "source": [
    "# Capítulo 06 - Funções em Python"
   ]
  },
  {
   "attachments": {},
   "cell_type": "markdown",
   "metadata": {},
   "source": [
    "## Aula 02 - Utilização de Funções"
   ]
  },
  {
   "cell_type": "code",
   "execution_count": 1,
   "metadata": {},
   "outputs": [],
   "source": [
    "# exibe mensagem de boas-vindas à uma pessoa\n",
    "def boas_vindas(nome):\n",
    "    print(f'Olá {nome}. Seja bem vindo(a)!')\n",
    "    \n",
    "# calcula a area de um quadrado: l x l\n",
    "def area_de_quadrado(lado):\n",
    "    return lado * lado\n",
    "\n",
    "# calcula a area de um triângulo: (b x h) / 2\n",
    "def area_de_triangulo(base,altura):\n",
    "    return (base * altura) / 2"
   ]
  },
  {
   "cell_type": "code",
   "execution_count": 2,
   "metadata": {},
   "outputs": [
    {
     "name": "stdout",
     "output_type": "stream",
     "text": [
      "Olá Rafael. Seja bem vindo(a)!\n",
      "100\n",
      "12.5\n"
     ]
    }
   ],
   "source": [
    "# Realiza as chamadas das funções\n",
    "boas_vindas('Rafael')\n",
    "\n",
    "print(area_de_quadrado(10))\n",
    "\n",
    "print(area_de_triangulo(5,5))"
   ]
  },
  {
   "cell_type": "code",
   "execution_count": 3,
   "metadata": {},
   "outputs": [
    {
     "data": {
      "text/plain": [
       "8"
      ]
     },
     "execution_count": 3,
     "metadata": {},
     "output_type": "execute_result"
    }
   ],
   "source": [
    "def funcao_soma(a,b):\n",
    "    soma = a +b \n",
    "    return soma\n",
    "\n",
    "funcao_soma(2,6)"
   ]
  },
  {
   "cell_type": "code",
   "execution_count": 4,
   "metadata": {},
   "outputs": [
    {
     "data": {
      "text/plain": [
       "2.5"
      ]
     },
     "execution_count": 4,
     "metadata": {},
     "output_type": "execute_result"
    }
   ],
   "source": [
    "# Realiza uma divisão inteira. Se o divisor é zero, retorna uma mensagem de erro.\n",
    "def div(dividendo,divisor):\n",
    "    if divisor == 0:\n",
    "        print(\"Inválido\")\n",
    "        return\n",
    "    return dividendo / divisor\n",
    "\n",
    "div(5,2)"
   ]
  },
  {
   "cell_type": "code",
   "execution_count": 5,
   "metadata": {},
   "outputs": [
    {
     "data": {
      "text/plain": [
       "(2, 2)"
      ]
     },
     "execution_count": 5,
     "metadata": {},
     "output_type": "execute_result"
    }
   ],
   "source": [
    "# Função similar a função div, mas que retorna o quociente e resto da divisão\n",
    "def div_qr(dividendo,divisor):\n",
    "    if divisor == 0:\n",
    "        print(\"Inválido\")\n",
    "        return\n",
    "    quociente = dividendo // divisor\n",
    "    resto = dividendo % divisor\n",
    "    return (quociente,resto)\n",
    "\n",
    "div_qr(10,4)"
   ]
  },
  {
   "cell_type": "code",
   "execution_count": 9,
   "metadata": {},
   "outputs": [
    {
     "name": "stdout",
     "output_type": "stream",
     "text": [
      "<class 'float'>\n",
      "<class 'tuple'>\n"
     ]
    }
   ],
   "source": [
    "# Tipos de dados\n",
    "print(type(div(10,2)))\n",
    "print(type(div_qr(10,4)))\n"
   ]
  },
  {
   "cell_type": "code",
   "execution_count": 10,
   "metadata": {},
   "outputs": [
    {
     "name": "stdout",
     "output_type": "stream",
     "text": [
      "Inválido\n",
      "<class 'NoneType'>\n"
     ]
    }
   ],
   "source": [
    "print(type(div(10,0)))\n"
   ]
  },
  {
   "attachments": {},
   "cell_type": "markdown",
   "metadata": {},
   "source": [
    "## Atribuição de valores\n"
   ]
  },
  {
   "cell_type": "code",
   "execution_count": 11,
   "metadata": {},
   "outputs": [
    {
     "name": "stdout",
     "output_type": "stream",
     "text": [
      "resultado: (4, 1) <class 'tuple'>\n"
     ]
    }
   ],
   "source": [
    "# atribuição dos múltiplos valores em uma variável única do tipo tupla\n",
    "\n",
    "resultado = div_qr(21,5)\n",
    "print('resultado:',resultado,type(resultado))"
   ]
  },
  {
   "cell_type": "code",
   "execution_count": 12,
   "metadata": {},
   "outputs": [
    {
     "name": "stdout",
     "output_type": "stream",
     "text": [
      "quociente 4 <class 'int'>\n",
      "resto 1 <class 'int'>\n"
     ]
    }
   ],
   "source": [
    "# atribuição dos múltiplos valores em variáveis separadas\n",
    "quociente,resto = div_qr(21,5)\n",
    "print('quociente',quociente,type(quociente))\n",
    "print('resto',resto,type(resto))"
   ]
  },
  {
   "attachments": {},
   "cell_type": "markdown",
   "metadata": {},
   "source": [
    "# Modularizar código"
   ]
  },
  {
   "cell_type": "code",
   "execution_count": 13,
   "metadata": {},
   "outputs": [],
   "source": [
    "# Que tal reaproveitarmos mais código ainda?\n",
    "\n",
    "# Verifica se é um divisor inválido (divisor == 0)\n",
    "\n",
    "def divisor_invalido(divisor):\n",
    "    if divisor == 0:\n",
    "        print('ERRO: Divisor inválido!')\n",
    "        return True\n",
    "    return False\n",
    "\n",
    "# Retorna o resultado de uma divisão\n",
    "def div(dividendo,divisor):\n",
    "    if divisor_invalido(divisor):\n",
    "        return\n",
    "    return dividendo / divisor\n",
    "\n",
    "# Retorna o quociente e o resto de uma divisão\n",
    "def div_qr(dividendo,divisor):\n",
    "    if divisor_invalido(divisor):\n",
    "        return\n",
    "    quociente = dividendo // divisor\n",
    "    resto = dividendo % divisor\n",
    "    return(quociente,resto)"
   ]
  },
  {
   "cell_type": "code",
   "execution_count": 14,
   "metadata": {},
   "outputs": [
    {
     "data": {
      "text/plain": [
       "3.0"
      ]
     },
     "execution_count": 14,
     "metadata": {},
     "output_type": "execute_result"
    }
   ],
   "source": [
    "div(3,1)"
   ]
  },
  {
   "cell_type": "code",
   "execution_count": 16,
   "metadata": {},
   "outputs": [
    {
     "data": {
      "text/plain": [
       "(1, 2)"
      ]
     },
     "execution_count": 16,
     "metadata": {},
     "output_type": "execute_result"
    }
   ],
   "source": [
    "div_qr(9,7)"
   ]
  },
  {
   "cell_type": "code",
   "execution_count": 17,
   "metadata": {},
   "outputs": [
    {
     "name": "stdout",
     "output_type": "stream",
     "text": [
      "ERRO: Divisor inválido!\n"
     ]
    }
   ],
   "source": [
    "div_qr(10,0)"
   ]
  },
  {
   "cell_type": "code",
   "execution_count": 19,
   "metadata": {},
   "outputs": [
    {
     "name": "stdout",
     "output_type": "stream",
     "text": [
      "ERRO: Divisor inválido!\n"
     ]
    }
   ],
   "source": [
    "div(2,0)"
   ]
  }
 ],
 "metadata": {
  "kernelspec": {
   "display_name": "Python 3",
   "language": "python",
   "name": "python3"
  },
  "language_info": {
   "codemirror_mode": {
    "name": "ipython",
    "version": 3
   },
   "file_extension": ".py",
   "mimetype": "text/x-python",
   "name": "python",
   "nbconvert_exporter": "python",
   "pygments_lexer": "ipython3",
   "version": "3.11.3"
  },
  "orig_nbformat": 4
 },
 "nbformat": 4,
 "nbformat_minor": 2
}
