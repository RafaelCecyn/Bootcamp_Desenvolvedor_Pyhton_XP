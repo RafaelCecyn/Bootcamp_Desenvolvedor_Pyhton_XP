{
 "cells": [
  {
   "attachments": {},
   "cell_type": "markdown",
   "metadata": {},
   "source": [
    "# Capítulo 04 - Fluxos de Controle em Python\n"
   ]
  },
  {
   "attachments": {},
   "cell_type": "markdown",
   "metadata": {},
   "source": [
    "## Aula 02 - Estruturas de Repetição\n",
    "- Estrutura de repetição while\n",
    "- Estrutura de repetição for _ in\n",
    "- Interrupção da estrutura de Repetição"
   ]
  },
  {
   "attachments": {},
   "cell_type": "markdown",
   "metadata": {},
   "source": [
    "## Estrutura da Repetição While"
   ]
  },
  {
   "cell_type": "code",
   "execution_count": 4,
   "metadata": {},
   "outputs": [
    {
     "name": "stdout",
     "output_type": "stream",
     "text": [
      "Meu nome é Antônio\n",
      "Meu nome é Antônio\n",
      "Meu nome é Antônio\n",
      "Meu nome é Antônio\n",
      "Meu nome é Antônio\n",
      "Meu nome é Antônio\n",
      "Meu nome é Antônio\n",
      "Meu nome é Antônio\n",
      "Meu nome é Antônio\n",
      "Meu nome é Antônio\n",
      "Meu nome é Antônio\n",
      "Meu nome é Antônio\n",
      "Meu nome é Antônio\n",
      "Meu nome é Antônio\n",
      "Meu nome é Antônio\n",
      "Fim do problema\n"
     ]
    }
   ],
   "source": [
    "n = 15\n",
    "while n > 0:\n",
    "    print('Meu nome é Antônio')\n",
    "    n = n -1\n",
    "    # n -= 1\n",
    "print('Fim do problema')"
   ]
  },
  {
   "cell_type": "code",
   "execution_count": 8,
   "metadata": {},
   "outputs": [
    {
     "name": "stdout",
     "output_type": "stream",
     "text": [
      "Meu nome é Antônio\n",
      "Fim do problema\n"
     ]
    }
   ],
   "source": [
    "n = 0\n",
    "while n <= 15 and n== 0:\n",
    "    print('Meu nome é Antônio')\n",
    "    n = n +1\n",
    "    # n -= 1\n",
    "print('Fim do problema')"
   ]
  },
  {
   "cell_type": "code",
   "execution_count": 13,
   "metadata": {},
   "outputs": [
    {
     "name": "stdout",
     "output_type": "stream",
     "text": [
      "soma 0\n",
      "contador 0\n",
      "soma depois 0\n",
      "contador depois 1\n",
      "\n",
      "soma 0\n",
      "contador 1\n",
      "soma depois 1\n",
      "contador depois 2\n",
      "\n",
      "soma 1\n",
      "contador 2\n",
      "soma depois 3\n",
      "contador depois 3\n",
      "\n",
      "soma 3\n",
      "contador 3\n",
      "soma depois 6\n",
      "contador depois 4\n",
      "\n",
      "soma 6\n",
      "contador 4\n",
      "soma depois 10\n",
      "contador depois 5\n",
      "\n",
      "soma 10\n",
      "contador 5\n",
      "soma depois 15\n",
      "contador depois 6\n",
      "\n",
      "soma 15\n",
      "contador 6\n",
      "soma depois 21\n",
      "contador depois 7\n",
      "\n",
      "soma 21\n",
      "contador 7\n",
      "soma depois 28\n",
      "contador depois 8\n",
      "\n",
      "soma 28\n",
      "contador 8\n",
      "soma depois 36\n",
      "contador depois 9\n",
      "\n",
      "soma 36\n",
      "contador 9\n",
      "soma depois 45\n",
      "contador depois 10\n",
      "\n",
      "soma 45\n",
      "contador 10\n",
      "soma depois 55\n",
      "contador depois 11\n",
      "\n",
      "soma 55\n",
      "contador 11\n",
      "soma depois 66\n",
      "contador depois 12\n",
      "\n",
      "soma 66\n",
      "contador 12\n",
      "soma depois 78\n",
      "contador depois 13\n",
      "\n",
      "soma 78\n",
      "contador 13\n",
      "soma depois 91\n",
      "contador depois 14\n",
      "\n",
      "soma 91\n",
      "contador 14\n",
      "soma depois 105\n",
      "contador depois 15\n",
      "\n",
      "soma 105\n",
      "contador 15\n",
      "soma depois 120\n",
      "contador depois 16\n",
      "\n",
      "A soma dos n inteiros é 120\n"
     ]
    }
   ],
   "source": [
    "# Exemplos soma dos 15 primeiros valores\n",
    "\n",
    "numero = 15\n",
    "soma = 0\n",
    "contador = 0\n",
    "\n",
    "while (contador <= numero):\n",
    "    print('soma',soma)\n",
    "    print('contador',contador)\n",
    "    soma = soma + contador\n",
    "    contador = contador + 1\n",
    "    print('soma depois',soma)\n",
    "    print('contador depois',contador)\n",
    "    print()\n",
    "\n",
    "print(f'A soma dos n inteiros é {soma}')"
   ]
  },
  {
   "cell_type": "code",
   "execution_count": 14,
   "metadata": {},
   "outputs": [
    {
     "name": "stdout",
     "output_type": "stream",
     "text": [
      "120\n"
     ]
    }
   ],
   "source": [
    "n = 15\n",
    "soma = 0\n",
    "\n",
    "while n >= 0:\n",
    "    soma = soma + n\n",
    "    n = n-1\n",
    "\n",
    "print(soma)"
   ]
  },
  {
   "attachments": {},
   "cell_type": "markdown",
   "metadata": {},
   "source": [
    "# ESTRUTURA DE REPETIÇÃO FOR IN"
   ]
  },
  {
   "cell_type": "code",
   "execution_count": 16,
   "metadata": {},
   "outputs": [
    {
     "name": "stdout",
     "output_type": "stream",
     "text": [
      "4\n",
      "5\n",
      "8\n",
      "9\n"
     ]
    }
   ],
   "source": [
    "numero = '4589'\n",
    "soma = 0\n",
    "\n",
    "for i in numero:\n",
    "    print(i)"
   ]
  },
  {
   "cell_type": "code",
   "execution_count": 18,
   "metadata": {},
   "outputs": [
    {
     "name": "stdout",
     "output_type": "stream",
     "text": [
      "26\n"
     ]
    }
   ],
   "source": [
    "numero = '4589'\n",
    "soma = 0\n",
    "for i in numero:\n",
    "    soma = soma + int(i)\n",
    "\n",
    "print(soma)"
   ]
  },
  {
   "cell_type": "code",
   "execution_count": 19,
   "metadata": {},
   "outputs": [
    {
     "name": "stdout",
     "output_type": "stream",
     "text": [
      "5\n"
     ]
    }
   ],
   "source": [
    "# Exemplo de palavras: araraquara\n",
    "\n",
    "palavra = 'araraquara'\n",
    "contador = 0\n",
    "\n",
    "for i in palavra:\n",
    "    if i == 'a':\n",
    "        contador +=1\n",
    "\n",
    "print(contador)"
   ]
  },
  {
   "attachments": {},
   "cell_type": "markdown",
   "metadata": {},
   "source": [
    "# A função range, para geração de sequência de números"
   ]
  },
  {
   "cell_type": "code",
   "execution_count": null,
   "metadata": {},
   "outputs": [],
   "source": [
    "# range(início, fim+1, incremento)"
   ]
  },
  {
   "cell_type": "code",
   "execution_count": 25,
   "metadata": {},
   "outputs": [
    {
     "name": "stdout",
     "output_type": "stream",
     "text": [
      "[0, 1, 2, 3, 4]\n"
     ]
    }
   ],
   "source": [
    "print(list(range(5)))"
   ]
  },
  {
   "cell_type": "code",
   "execution_count": 27,
   "metadata": {},
   "outputs": [
    {
     "name": "stdout",
     "output_type": "stream",
     "text": [
      "[3, 5, 7]\n"
     ]
    }
   ],
   "source": [
    "print(list(range(3,8,2)))"
   ]
  },
  {
   "cell_type": "code",
   "execution_count": 23,
   "metadata": {},
   "outputs": [
    {
     "name": "stdout",
     "output_type": "stream",
     "text": [
      "0\n",
      "1\n",
      "2\n",
      "3\n",
      "4\n"
     ]
    }
   ],
   "source": [
    "for i in range(0,5):\n",
    "    print(i)"
   ]
  },
  {
   "cell_type": "code",
   "execution_count": 28,
   "metadata": {},
   "outputs": [
    {
     "name": "stdout",
     "output_type": "stream",
     "text": [
      "120\n"
     ]
    }
   ],
   "source": [
    "# Exemplo com n=15\n",
    "n = 15\n",
    "soma = 0\n",
    "\n",
    "for n in range (n +1):\n",
    "    soma = soma + n\n",
    "\n",
    "print(soma)"
   ]
  },
  {
   "attachments": {},
   "cell_type": "markdown",
   "metadata": {},
   "source": [
    "## Interrupção da Estrutura de Repetição"
   ]
  },
  {
   "attachments": {},
   "cell_type": "markdown",
   "metadata": {},
   "source": [
    "## Break para o código"
   ]
  },
  {
   "cell_type": "code",
   "execution_count": 29,
   "metadata": {},
   "outputs": [
    {
     "name": "stdout",
     "output_type": "stream",
     "text": [
      "a\n"
     ]
    }
   ],
   "source": [
    "while True:\n",
    "    print('a')\n",
    "    break"
   ]
  },
  {
   "cell_type": "code",
   "execution_count": 38,
   "metadata": {},
   "outputs": [
    {
     "name": "stdout",
     "output_type": "stream",
     "text": [
      "Número encontrado 252\n"
     ]
    }
   ],
   "source": [
    "for num in range(250,301):\n",
    "    if num % 21 == 0:\n",
    "        print('Número encontrado', num)\n",
    "        break\n"
   ]
  },
  {
   "cell_type": "code",
   "execution_count": null,
   "metadata": {},
   "outputs": [],
   "source": []
  }
 ],
 "metadata": {
  "kernelspec": {
   "display_name": "Python 3",
   "language": "python",
   "name": "python3"
  },
  "language_info": {
   "codemirror_mode": {
    "name": "ipython",
    "version": 3
   },
   "file_extension": ".py",
   "mimetype": "text/x-python",
   "name": "python",
   "nbconvert_exporter": "python",
   "pygments_lexer": "ipython3",
   "version": "3.11.1"
  },
  "orig_nbformat": 4
 },
 "nbformat": 4,
 "nbformat_minor": 2
}
