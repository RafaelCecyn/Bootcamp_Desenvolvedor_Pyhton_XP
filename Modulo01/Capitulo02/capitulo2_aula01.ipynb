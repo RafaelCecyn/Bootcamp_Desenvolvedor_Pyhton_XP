{
 "cells": [
  {
   "cell_type": "code",
   "execution_count": 2,
   "metadata": {},
   "outputs": [
    {
     "name": "stdout",
     "output_type": "stream",
     "text": [
      "Os números menores são [0, 1, 2, 3, 4]\n",
      "Os números maiores são [6, 7, 8, 9]\n"
     ]
    }
   ],
   "source": [
    "#Definir o limiar\n",
    "limiar = 5\n",
    "\n",
    "numeros_maiores = []\n",
    "numeros_menores = []\n",
    "\n",
    "for i in range(10):\n",
    "    if (i < 5):\n",
    "        numeros_menores.append(i)\n",
    "    elif (i > 5):\n",
    "        numeros_maiores.append(i)\n",
    "        \n",
    "print(\"Os números menores são\", numeros_menores)\n",
    "print(\"Os números maiores são\", numeros_maiores)\n",
    "        "
   ]
  },
  {
   "cell_type": "code",
   "execution_count": null,
   "metadata": {},
   "outputs": [],
   "source": []
  }
 ],
 "metadata": {
  "kernelspec": {
   "display_name": "Python 3",
   "language": "python",
   "name": "python3"
  },
  "language_info": {
   "codemirror_mode": {
    "name": "ipython",
    "version": 3
   },
   "file_extension": ".py",
   "mimetype": "text/x-python",
   "name": "python",
   "nbconvert_exporter": "python",
   "pygments_lexer": "ipython3",
   "version": "3.11.3"
  },
  "orig_nbformat": 4
 },
 "nbformat": 4,
 "nbformat_minor": 2
}
