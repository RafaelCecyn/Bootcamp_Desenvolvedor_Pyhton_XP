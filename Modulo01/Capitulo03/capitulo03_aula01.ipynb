{
 "cells": [
  {
   "attachments": {},
   "cell_type": "markdown",
   "metadata": {},
   "source": [
    "# Capítulo 03 - Tipos Primitivos de Dados e Operadores"
   ]
  },
  {
   "attachments": {},
   "cell_type": "markdown",
   "metadata": {},
   "source": [
    "## Aula 01 - Tipos Primitivos de Dados em Python\n",
    "- Tipos primitivos ('Int','float','bool','str')\n",
    "\n"
   ]
  },
  {
   "cell_type": "code",
   "execution_count": 4,
   "metadata": {},
   "outputs": [
    {
     "name": "stdout",
     "output_type": "stream",
     "text": [
      "3 -5\n",
      "1233213122222222222222222221312135\n"
     ]
    }
   ],
   "source": [
    "# Exemplos do tipo int\n",
    "x = 3\n",
    "y = -5\n",
    "big = 1233213122222222222222222221312132\n",
    "print(x,y)\n",
    "print(x+big)"
   ]
  },
  {
   "cell_type": "code",
   "execution_count": 22,
   "metadata": {},
   "outputs": [
    {
     "name": "stdout",
     "output_type": "stream",
     "text": [
      "3.5 4.5 -3.5 3.1432342344444444\n"
     ]
    },
    {
     "data": {
      "text/plain": [
       "float"
      ]
     },
     "execution_count": 22,
     "metadata": {},
     "output_type": "execute_result"
    }
   ],
   "source": [
    "# Exemplos do tipo float\n",
    "a = 3.5\n",
    "b = 4.5\n",
    "c = -a\n",
    "pi = 3.1432342344444444444444444232344443223234232\n",
    "print(a,b,-a,pi)\n",
    "f = a + x\n",
    "type(f)"
   ]
  },
  {
   "cell_type": "code",
   "execution_count": 19,
   "metadata": {},
   "outputs": [],
   "source": [
    "# Exemplos do tipo bool\n",
    "habilitado = True\n",
    "pendencia = False"
   ]
  },
  {
   "cell_type": "code",
   "execution_count": 28,
   "metadata": {},
   "outputs": [
    {
     "name": "stdout",
     "output_type": "stream",
     "text": [
      "Belo Horizonte - Antônio Carlos\n",
      " ANtoônio mora na cidade de Belo Horizonte\n",
      "Estou escrevendo com aspas 'dulpas'\n"
     ]
    }
   ],
   "source": [
    "# Exemplos do tipo string\n",
    "cidade = 'Belo Horizonte'\n",
    "nome = \"Antônio Carlos\"\n",
    "texto = ''' ANtoônio mora na cidade de Belo Horizonte''' # Quebra de linhas\n",
    "print(cidade,'-',nome)\n",
    "print(texto)\n",
    "frase= \"Estou escrevendo com aspas 'dulpas'\"\n",
    "print(frase)"
   ]
  },
  {
   "cell_type": "code",
   "execution_count": 31,
   "metadata": {},
   "outputs": [
    {
     "name": "stdout",
     "output_type": "stream",
     "text": [
      "<class 'NoneType'>\n"
     ]
    }
   ],
   "source": [
    "# Exemplos do tipo NoneType\n",
    "i = None\n",
    "print(type(i))"
   ]
  },
  {
   "cell_type": "code",
   "execution_count": 20,
   "metadata": {},
   "outputs": [
    {
     "data": {
      "text/plain": [
       "bool"
      ]
     },
     "execution_count": 20,
     "metadata": {},
     "output_type": "execute_result"
    }
   ],
   "source": [
    "# Função type ()\n",
    "type(pi)\n",
    "type(habilitado)"
   ]
  },
  {
   "cell_type": "code",
   "execution_count": null,
   "metadata": {},
   "outputs": [],
   "source": []
  }
 ],
 "metadata": {
  "kernelspec": {
   "display_name": "Python 3",
   "language": "python",
   "name": "python3"
  },
  "language_info": {
   "codemirror_mode": {
    "name": "ipython",
    "version": 3
   },
   "file_extension": ".py",
   "mimetype": "text/x-python",
   "name": "python",
   "nbconvert_exporter": "python",
   "pygments_lexer": "ipython3",
   "version": "3.11.3"
  },
  "orig_nbformat": 4
 },
 "nbformat": 4,
 "nbformat_minor": 2
}
