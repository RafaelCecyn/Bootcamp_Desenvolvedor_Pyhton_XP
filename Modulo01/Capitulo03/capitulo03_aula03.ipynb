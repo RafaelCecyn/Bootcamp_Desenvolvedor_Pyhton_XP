{
 "cells": [
  {
   "attachments": {},
   "cell_type": "markdown",
   "metadata": {},
   "source": [
    "# Capítulo 03 - Tipos Primitivos de Dados e Operadores\n"
   ]
  },
  {
   "attachments": {},
   "cell_type": "markdown",
   "metadata": {},
   "source": [
    "## Aula 03 - Operadores com strings\n",
    "- Operador de Acesso das Strings\n",
    "- Operadores de Strings\n",
    "- Métodos das Strings\n",
    "\n",
    "\n"
   ]
  },
  {
   "attachments": {},
   "cell_type": "markdown",
   "metadata": {},
   "source": [
    "## Operador de Acesso das Strings"
   ]
  },
  {
   "cell_type": "code",
   "execution_count": 3,
   "metadata": {},
   "outputs": [
    {
     "name": "stdout",
     "output_type": "stream",
     "text": [
      "Primeiro caractere c\n",
      "Segundo caractere o\n",
      "Sexto caractere a\n",
      "Último caractere o\n",
      "Último caractere o\n",
      "Penúltimo caractere ã\n",
      "Antepenúltimo caractere ç\n",
      "Primeiro caractere c\n"
     ]
    }
   ],
   "source": [
    "palavra = 'consolação'\n",
    "# índices positivos\n",
    "print('Primeiro caractere', palavra[0])\n",
    "print('Segundo caractere', palavra[1])\n",
    "print('Sexto caractere', palavra[6])\n",
    "print('Último caractere', palavra[9])\n",
    "\n",
    "# índices negativos\n",
    "print('Último caractere', palavra[-1])\n",
    "print('Penúltimo caractere', palavra[-2])\n",
    "print('Antepenúltimo caractere', palavra[-3])\n",
    "print('Primeiro caractere', palavra[-10])"
   ]
  },
  {
   "attachments": {},
   "cell_type": "markdown",
   "metadata": {},
   "source": [
    "## Acessando mais de um caractere (slicing ou fatiamento) negrito:"
   ]
  },
  {
   "cell_type": "code",
   "execution_count": 8,
   "metadata": {},
   "outputs": [
    {
     "data": {
      "text/plain": [
       "'ação'"
      ]
     },
     "execution_count": 8,
     "metadata": {},
     "output_type": "execute_result"
    }
   ],
   "source": [
    "# SLICE\n",
    "palavra[3:6] # sempre pega um a mais do que você quer\n",
    "palavra[3:7] # sempre pega um a mais do que você quer   \n",
    "palavra[6:10] # sempre pega um a mais do que você quer  "
   ]
  },
  {
   "cell_type": "code",
   "execution_count": 10,
   "metadata": {},
   "outputs": [
    {
     "data": {
      "text/plain": [
       "'nsolação'"
      ]
     },
     "execution_count": 10,
     "metadata": {},
     "output_type": "execute_result"
    }
   ],
   "source": [
    "# Pega até o final da palavra\n",
    "palavra[2:]"
   ]
  },
  {
   "cell_type": "code",
   "execution_count": 13,
   "metadata": {},
   "outputs": [
    {
     "data": {
      "text/plain": [
       "'consola'"
      ]
     },
     "execution_count": 13,
     "metadata": {},
     "output_type": "execute_result"
    }
   ],
   "source": [
    "# Pega até o início da palavra\n",
    "palavra[:7]"
   ]
  },
  {
   "cell_type": "code",
   "execution_count": 14,
   "metadata": {},
   "outputs": [
    {
     "data": {
      "text/plain": [
       "'consolação'"
      ]
     },
     "execution_count": 14,
     "metadata": {},
     "output_type": "execute_result"
    }
   ],
   "source": [
    "# Pega a palavra inteira\n",
    "palavra[:]"
   ]
  },
  {
   "cell_type": "code",
   "execution_count": 15,
   "metadata": {},
   "outputs": [
    {
     "data": {
      "text/plain": [
       "'ação'"
      ]
     },
     "execution_count": 15,
     "metadata": {},
     "output_type": "execute_result"
    }
   ],
   "source": [
    "# Pega por negativo\n",
    "palavra[-4:]"
   ]
  },
  {
   "attachments": {},
   "cell_type": "markdown",
   "metadata": {},
   "source": [
    "# Operadores de Strings"
   ]
  },
  {
   "cell_type": "code",
   "execution_count": 16,
   "metadata": {},
   "outputs": [
    {
     "data": {
      "text/plain": [
       "'antoniocarlos'"
      ]
     },
     "execution_count": 16,
     "metadata": {},
     "output_type": "execute_result"
    }
   ],
   "source": [
    "'antonio' + 'carlos'"
   ]
  },
  {
   "cell_type": "code",
   "execution_count": 17,
   "metadata": {},
   "outputs": [
    {
     "name": "stdout",
     "output_type": "stream",
     "text": [
      "BeloBeloBelo\n"
     ]
    }
   ],
   "source": [
    "a1 = 'Belo'\n",
    "print(a1*3)"
   ]
  },
  {
   "cell_type": "code",
   "execution_count": 22,
   "metadata": {},
   "outputs": [
    {
     "name": "stdout",
     "output_type": "stream",
     "text": [
      "BeloHorizonte\n",
      "Belo Horizonte\n",
      "Belo Monte\n",
      "BeloBeloBeloBeloBelo\n",
      "Belo, Belo, Belo, Belo, Belo, \n"
     ]
    }
   ],
   "source": [
    "a1 = 'Belo'\n",
    "a2 = 'Horizonte'\n",
    "\n",
    "# Concatenação (+)\n",
    "print(a1 + a2)\n",
    "print(a1 + ' '+ a2)\n",
    "print(a1 + ' Monte')\n",
    "\n",
    "#Repetição\n",
    "\n",
    "print(a1 * 5)\n",
    "print((a1 + ', ')*5)"
   ]
  },
  {
   "attachments": {},
   "cell_type": "markdown",
   "metadata": {},
   "source": [
    "# Operadores de filiação (Pertencimento)"
   ]
  },
  {
   "cell_type": "code",
   "execution_count": 24,
   "metadata": {},
   "outputs": [
    {
     "name": "stdout",
     "output_type": "stream",
     "text": [
      "False\n",
      "True\n",
      "False\n",
      "True\n"
     ]
    }
   ],
   "source": [
    "s1 = 'consolação'\n",
    "s2 = 'sola'\n",
    "\n",
    "print(s1 in a2)\n",
    "print(s2 in s1)\n",
    "print('solars2' in s1)\n",
    "print('solar' not in a2)"
   ]
  },
  {
   "cell_type": "code",
   "execution_count": 25,
   "metadata": {},
   "outputs": [
    {
     "data": {
      "text/plain": [
       "True"
      ]
     },
     "execution_count": 25,
     "metadata": {},
     "output_type": "execute_result"
    }
   ],
   "source": [
    "x = 'brasilia'\n",
    "'brasil' in x"
   ]
  },
  {
   "attachments": {},
   "cell_type": "markdown",
   "metadata": {},
   "source": [
    "# Funções e Métodos das Strings"
   ]
  },
  {
   "cell_type": "code",
   "execution_count": 26,
   "metadata": {},
   "outputs": [
    {
     "name": "stdout",
     "output_type": "stream",
     "text": [
      "10\n"
     ]
    }
   ],
   "source": [
    "palavra = 'consolação'\n",
    "print(len(palavra))"
   ]
  },
  {
   "cell_type": "code",
   "execution_count": 27,
   "metadata": {},
   "outputs": [],
   "source": [
    "a1 = 'Belo Horizonte'\n",
    "a2 = 'Esta é uma frase, com uma vírgula'"
   ]
  },
  {
   "cell_type": "code",
   "execution_count": 28,
   "metadata": {},
   "outputs": [
    {
     "name": "stdout",
     "output_type": "stream",
     "text": [
      "BELO HORIZONTE\n"
     ]
    }
   ],
   "source": [
    "print(a1.upper())"
   ]
  },
  {
   "cell_type": "code",
   "execution_count": 29,
   "metadata": {},
   "outputs": [
    {
     "name": "stdout",
     "output_type": "stream",
     "text": [
      "belo horizonte\n"
     ]
    }
   ],
   "source": [
    "print(a1.lower())"
   ]
  },
  {
   "cell_type": "code",
   "execution_count": 32,
   "metadata": {},
   "outputs": [
    {
     "name": "stdout",
     "output_type": "stream",
     "text": [
      "Esta É Uma Frase, Com Uma Vírgula\n"
     ]
    }
   ],
   "source": [
    "print(a2.title())"
   ]
  },
  {
   "cell_type": "code",
   "execution_count": 37,
   "metadata": {},
   "outputs": [
    {
     "name": "stdout",
     "output_type": "stream",
     "text": [
      "Belo Monte\n"
     ]
    }
   ],
   "source": [
    "print(a1.replace('Horizonte', 'Monte'))"
   ]
  },
  {
   "cell_type": "code",
   "execution_count": 38,
   "metadata": {},
   "outputs": [
    {
     "name": "stdout",
     "output_type": "stream",
     "text": [
      "True\n"
     ]
    }
   ],
   "source": [
    "print(a1.startswith('Belo'))"
   ]
  },
  {
   "cell_type": "code",
   "execution_count": 39,
   "metadata": {},
   "outputs": [
    {
     "name": "stdout",
     "output_type": "stream",
     "text": [
      "False\n"
     ]
    }
   ],
   "source": [
    "print(a1.endswith('Monte'))\n"
   ]
  },
  {
   "cell_type": "code",
   "execution_count": 40,
   "metadata": {},
   "outputs": [
    {
     "name": "stdout",
     "output_type": "stream",
     "text": [
      "11\n"
     ]
    }
   ],
   "source": [
    "print(a2.find('frase')) # Retorna onde começa a palavra e se tiver \n",
    "#mais de uma mesma palavra retorna a primeira"
   ]
  },
  {
   "cell_type": "code",
   "execution_count": 41,
   "metadata": {},
   "outputs": [
    {
     "name": "stdout",
     "output_type": "stream",
     "text": [
      "['Esta', 'é', 'uma', 'frase,', 'com', 'uma', 'vírgula']\n"
     ]
    }
   ],
   "source": [
    "print(a2.split())"
   ]
  },
  {
   "cell_type": "code",
   "execution_count": 44,
   "metadata": {},
   "outputs": [
    {
     "name": "stdout",
     "output_type": "stream",
     "text": [
      "['Esta é uma frase', ' com uma vírgula']\n"
     ]
    }
   ],
   "source": [
    "print(a2.split(','))\n"
   ]
  },
  {
   "cell_type": "code",
   "execution_count": 46,
   "metadata": {},
   "outputs": [
    {
     "name": "stdout",
     "output_type": "stream",
     "text": [
      "   A casa\n"
     ]
    }
   ],
   "source": [
    "s3 = '   A casa'\n",
    "print(s3)"
   ]
  },
  {
   "cell_type": "code",
   "execution_count": 47,
   "metadata": {},
   "outputs": [
    {
     "name": "stdout",
     "output_type": "stream",
     "text": [
      "A casa\n"
     ]
    }
   ],
   "source": [
    "print(s3.strip()) # Remove os espaços em brancos no início e fim da string"
   ]
  }
 ],
 "metadata": {
  "kernelspec": {
   "display_name": "Python 3",
   "language": "python",
   "name": "python3"
  },
  "language_info": {
   "codemirror_mode": {
    "name": "ipython",
    "version": 3
   },
   "file_extension": ".py",
   "mimetype": "text/x-python",
   "name": "python",
   "nbconvert_exporter": "python",
   "pygments_lexer": "ipython3",
   "version": "3.11.1"
  },
  "orig_nbformat": 4
 },
 "nbformat": 4,
 "nbformat_minor": 2
}
