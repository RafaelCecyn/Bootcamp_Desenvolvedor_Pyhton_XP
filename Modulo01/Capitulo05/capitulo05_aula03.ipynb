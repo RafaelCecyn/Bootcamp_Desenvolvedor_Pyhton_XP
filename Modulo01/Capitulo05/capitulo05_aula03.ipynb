{
 "cells": [
  {
   "attachments": {},
   "cell_type": "markdown",
   "metadata": {},
   "source": [
    "# Capítulo 05 - Estruturas de Dados em Python"
   ]
  },
  {
   "attachments": {},
   "cell_type": "markdown",
   "metadata": {},
   "source": [
    "# Aula 03 Tuplas (tuple)\n",
    "- Criação de Tuplas e Acesso dos Elemenetos\n",
    "- Operações com Tuplas"
   ]
  },
  {
   "attachments": {},
   "cell_type": "markdown",
   "metadata": {},
   "source": [
    "# Tuplas são imutáveis"
   ]
  },
  {
   "attachments": {},
   "cell_type": "markdown",
   "metadata": {},
   "source": [
    "## Criação das Tuplas e Acesso dos Elementos"
   ]
  },
  {
   "cell_type": "code",
   "execution_count": 2,
   "metadata": {},
   "outputs": [
    {
     "data": {
      "text/plain": [
       "(0, 1, 2, 3, 4)"
      ]
     },
     "execution_count": 2,
     "metadata": {},
     "output_type": "execute_result"
    }
   ],
   "source": [
    "# Criação de uma tupla homogênea\n",
    "tupla = (0,1,2,3,4)\n",
    "tupla"
   ]
  },
  {
   "cell_type": "code",
   "execution_count": 3,
   "metadata": {},
   "outputs": [
    {
     "name": "stdout",
     "output_type": "stream",
     "text": [
      "('a', 2, 3.0, True)\n"
     ]
    }
   ],
   "source": [
    "# Criação de uma tupla heterogênea\n",
    "tupla2 = ('a',2,3.0,True)\n",
    "print(tupla2)"
   ]
  },
  {
   "cell_type": "code",
   "execution_count": 4,
   "metadata": {},
   "outputs": [
    {
     "data": {
      "text/plain": [
       "()"
      ]
     },
     "execution_count": 4,
     "metadata": {},
     "output_type": "execute_result"
    }
   ],
   "source": [
    "# Tupla vazia\n",
    "tupla3 = ()\n",
    "tupla3"
   ]
  },
  {
   "cell_type": "code",
   "execution_count": 5,
   "metadata": {},
   "outputs": [
    {
     "name": "stdout",
     "output_type": "stream",
     "text": [
      "0\n",
      "3\n",
      "4\n"
     ]
    }
   ],
   "source": [
    " # acesso por índices\n",
    " print(tupla[0])\n",
    " print(tupla[3])\n",
    " print(tupla[-1])"
   ]
  },
  {
   "cell_type": "code",
   "execution_count": 6,
   "metadata": {},
   "outputs": [
    {
     "name": "stdout",
     "output_type": "stream",
     "text": [
      "('a', 2, 3.0, True)\n",
      "(2, 3.0)\n",
      "(3.0, True)\n"
     ]
    }
   ],
   "source": [
    "# acesso por slices\n",
    "print(tupla2[:])\n",
    "print(tupla2[1:3])\n",
    "print(tupla2[-2:])"
   ]
  },
  {
   "attachments": {},
   "cell_type": "markdown",
   "metadata": {},
   "source": [
    "## Operações com tuplas"
   ]
  },
  {
   "cell_type": "code",
   "execution_count": 7,
   "metadata": {},
   "outputs": [
    {
     "name": "stdout",
     "output_type": "stream",
     "text": [
      "(30, 10, 20, 2, 'a', 5.44, True)\n",
      "(30, 10, 20, 30, 10, 20, 30, 10, 20)\n",
      "True\n"
     ]
    }
   ],
   "source": [
    "t1 = (30,10,20)\n",
    "t2 = (2,'a',5.44,True)\n",
    "\n",
    "# Operadores de concatenação, repetição (*) e filiação in\n",
    "\n",
    "print(t1 + t2)\n",
    "print(t1*3)\n",
    "print(10 in t1)"
   ]
  },
  {
   "cell_type": "code",
   "execution_count": 8,
   "metadata": {},
   "outputs": [
    {
     "name": "stdout",
     "output_type": "stream",
     "text": [
      "4\n",
      "10\n",
      "30\n",
      "60\n"
     ]
    }
   ],
   "source": [
    "# Funções úteis\n",
    "\n",
    "print(len(t2))\n",
    "print(min(t1))\n",
    "print(max(t1))\n",
    "print(sum(t1))"
   ]
  },
  {
   "cell_type": "code",
   "execution_count": 9,
   "metadata": {},
   "outputs": [
    {
     "name": "stdout",
     "output_type": "stream",
     "text": [
      "2\n",
      "1\n"
     ]
    }
   ],
   "source": [
    "# Métodos que retornam valores\n",
    "print(t1.index(20))\n",
    "print(t2.count('a'))"
   ]
  },
  {
   "cell_type": "code",
   "execution_count": 10,
   "metadata": {},
   "outputs": [],
   "source": [
    "# Tuplas são imutáveis, e por esse motivo seus valores não podem ser alterados\n",
    "\n",
    "t1 = (1,2,3)\n",
    "# t1[0] = 0 # Não posso alterar a tupla"
   ]
  },
  {
   "cell_type": "code",
   "execution_count": null,
   "metadata": {},
   "outputs": [],
   "source": []
  }
 ],
 "metadata": {
  "kernelspec": {
   "display_name": "Python 3",
   "language": "python",
   "name": "python3"
  },
  "language_info": {
   "codemirror_mode": {
    "name": "ipython",
    "version": 3
   },
   "file_extension": ".py",
   "mimetype": "text/x-python",
   "name": "python",
   "nbconvert_exporter": "python",
   "pygments_lexer": "ipython3",
   "version": "3.11.3"
  },
  "orig_nbformat": 4
 },
 "nbformat": 4,
 "nbformat_minor": 2
}
