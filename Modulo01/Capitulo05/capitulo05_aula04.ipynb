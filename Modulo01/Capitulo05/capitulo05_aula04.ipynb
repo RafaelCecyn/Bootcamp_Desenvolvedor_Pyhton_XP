{
 "cells": [
  {
   "attachments": {},
   "cell_type": "markdown",
   "metadata": {},
   "source": [
    "# Capítulo 05 - Estruturas de Dados em Python"
   ]
  },
  {
   "attachments": {},
   "cell_type": "markdown",
   "metadata": {},
   "source": [
    "# Aula 04 Conjuntos (set)\n",
    "- Criação de conjuntos\n",
    "- Operações com conjuntos"
   ]
  },
  {
   "attachments": {},
   "cell_type": "markdown",
   "metadata": {},
   "source": [
    "# Criação de Conjuntos"
   ]
  },
  {
   "attachments": {},
   "cell_type": "markdown",
   "metadata": {},
   "source": [
    "# Conjuntos não são ordenados e são únicos"
   ]
  },
  {
   "cell_type": "code",
   "execution_count": 1,
   "metadata": {},
   "outputs": [
    {
     "name": "stdout",
     "output_type": "stream",
     "text": [
      "{0, 1, 3, 4}\n"
     ]
    }
   ],
   "source": [
    "# Criação de um conjunto  homogêneo\n",
    "c1 = {3,0,1,4,3}\n",
    "print(c1)"
   ]
  },
  {
   "cell_type": "code",
   "execution_count": 2,
   "metadata": {},
   "outputs": [
    {
     "data": {
      "text/plain": [
       "{0, 1, 3, 4}"
      ]
     },
     "execution_count": 2,
     "metadata": {},
     "output_type": "execute_result"
    }
   ],
   "source": [
    "c = {4,0,3,1}\n",
    "c"
   ]
  },
  {
   "cell_type": "code",
   "execution_count": 3,
   "metadata": {},
   "outputs": [
    {
     "data": {
      "text/plain": [
       "True"
      ]
     },
     "execution_count": 3,
     "metadata": {},
     "output_type": "execute_result"
    }
   ],
   "source": [
    "# Conjutns c e c1 são iguais\n",
    "c == c1"
   ]
  },
  {
   "attachments": {},
   "cell_type": "markdown",
   "metadata": {},
   "source": [
    "# TIPO SET VAI ORDENAR DIRETO NÃO IMPORTANDO A ORDEM"
   ]
  },
  {
   "cell_type": "code",
   "execution_count": 5,
   "metadata": {},
   "outputs": [
    {
     "name": "stdout",
     "output_type": "stream",
     "text": [
      "{0, 1, 2, 3, 4}\n"
     ]
    }
   ],
   "source": [
    "# Criação do mesmo conjunto, porém com uma ordenação diferente dos itens\n",
    "c2 = {2,1,4,3,0}\n",
    "print(c2)"
   ]
  },
  {
   "cell_type": "code",
   "execution_count": 7,
   "metadata": {},
   "outputs": [
    {
     "name": "stdout",
     "output_type": "stream",
     "text": [
      "{True, 2, 5.44, 'a', 'casa', None}\n"
     ]
    }
   ],
   "source": [
    "# Conjunto heterogêneo\n",
    "c3 = {2,'a',5.44,True,None,'casa'}\n",
    "print(c3)"
   ]
  },
  {
   "attachments": {},
   "cell_type": "markdown",
   "metadata": {},
   "source": [
    "# Operações com conjutos"
   ]
  },
  {
   "cell_type": "code",
   "execution_count": 8,
   "metadata": {},
   "outputs": [
    {
     "name": "stdout",
     "output_type": "stream",
     "text": [
      "A: {1, 2, 3, 4, 5}\n",
      "B: {4, 5, 6, 7, 8}\n"
     ]
    }
   ],
   "source": [
    "# Criação dos conjuntos A e B\n",
    "A = {1,2,3,4,5}\n",
    "B = {4,5,6,7,8}\n",
    "print('A:',A)\n",
    "print('B:',B)"
   ]
  },
  {
   "cell_type": "code",
   "execution_count": 9,
   "metadata": {},
   "outputs": [
    {
     "name": "stdout",
     "output_type": "stream",
     "text": [
      "A | B => {1, 2, 3, 4, 5, 6, 7, 8}\n",
      "A.union(B) {1, 2, 3, 4, 5, 6, 7, 8}\n"
     ]
    }
   ],
   "source": [
    "# Operação de União: (A U B)\n",
    "print('A | B =>', A & B)\n",
    "print('A.union(B)',A.union(B))"
   ]
  },
  {
   "cell_type": "code",
   "execution_count": 10,
   "metadata": {},
   "outputs": [
    {
     "name": "stdout",
     "output_type": "stream",
     "text": [
      "A & B => {4, 5}\n",
      "A.intersection(B) {4, 5}\n"
     ]
    }
   ],
   "source": [
    "# Operação de Intersecção: (A && B)\n",
    "print('A & B =>', A & B)\n",
    "print('A.intersection(B)',A.intersection(B))"
   ]
  },
  {
   "cell_type": "code",
   "execution_count": 12,
   "metadata": {},
   "outputs": [
    {
     "name": "stdout",
     "output_type": "stream",
     "text": [
      "A - B => {1, 2, 3}\n",
      "A.difference(B) {1, 2, 3}\n",
      "B - A => {8, 6, 7}\n",
      "B.difference(A) {8, 6, 7}\n"
     ]
    }
   ],
   "source": [
    "# Operação de Diferença: (A - B) e (B - A)\n",
    "print('A - B =>', A - B)\n",
    "print('A.difference(B)',A.difference(B))\n",
    "print('B - A =>', B - A)\n",
    "print('B.difference(A)',B.difference(A))"
   ]
  },
  {
   "cell_type": "code",
   "execution_count": 14,
   "metadata": {},
   "outputs": [
    {
     "data": {
      "text/plain": [
       "3"
      ]
     },
     "execution_count": 14,
     "metadata": {},
     "output_type": "execute_result"
    }
   ],
   "source": [
    "len(A)\n",
    "len(A-B)"
   ]
  },
  {
   "cell_type": "code",
   "execution_count": 17,
   "metadata": {},
   "outputs": [
    {
     "name": "stdout",
     "output_type": "stream",
     "text": [
      "{1, 2, 3, 4, 5, 6}\n",
      "{1, 2, 3, 4, 5, 6, 8}\n"
     ]
    }
   ],
   "source": [
    "# Criação dos conjuntos c1,c2 e c3\n",
    "c1 = {1,2,3,4,5}\n",
    "c2 = {4,5}\n",
    "c3 = {91,92,93}\n",
    "\n",
    "# Adiciona um elemento ao conjunto\n",
    "c1.add(6)\n",
    "print(c1)\n",
    "\n",
    "# Adiciona os elementos de uma sequência iterável\n",
    "c1.update([2,4,6,8])\n",
    "print(c1)"
   ]
  },
  {
   "cell_type": "code",
   "execution_count": 20,
   "metadata": {},
   "outputs": [
    {
     "name": "stdout",
     "output_type": "stream",
     "text": [
      "{1, 2, 3, 4, 5, 6}\n",
      "{1, 2, 3, 4, 5, 6}\n"
     ]
    }
   ],
   "source": [
    "# Descarta um elemento do Conjunto e diferente do Remove não da erro se não tiver valor para remover\n",
    "c1.discard(8)\n",
    "print(c1)\n",
    "\n",
    "c1.discard(99)\n",
    "print(c1)\n"
   ]
  },
  {
   "cell_type": "code",
   "execution_count": 23,
   "metadata": {},
   "outputs": [
    {
     "name": "stdout",
     "output_type": "stream",
     "text": [
      "False\n",
      "True\n",
      "False\n",
      "True\n",
      "True\n",
      "False\n"
     ]
    }
   ],
   "source": [
    "# Verifica se os conjuntos são disjuntos, ou seja,\n",
    "# se não possuem nenhum elemento em comum\n",
    "\n",
    "print(c1.isdisjoint(c2))\n",
    "print(c1.isdisjoint(c3))\n",
    "\n",
    "# Verifica se o conjunto é subconjunto de outro\n",
    "print(c1.issubset(c2))\n",
    "print(c2.issubset(c1))\n",
    "\n",
    "# Verifica se o cojunto contém outro conjunto (superset)\n",
    "print(c1.issuperset(c2))\n",
    "print(c2.issuperset(c1))"
   ]
  },
  {
   "attachments": {},
   "cell_type": "markdown",
   "metadata": {},
   "source": [
    "# Exemplos práticos com conjunto"
   ]
  },
  {
   "attachments": {},
   "cell_type": "markdown",
   "metadata": {},
   "source": [
    "## 1. Criar uma relação com todos os alunos da escola, sem repetições.\n",
    "## 2. Identificar os alunos que estão matriculados em pelo menos duas turmas para oferecermos um desconto"
   ]
  },
  {
   "cell_type": "code",
   "execution_count": 26,
   "metadata": {},
   "outputs": [
    {
     "name": "stdout",
     "output_type": "stream",
     "text": [
      "Relação de todos os alunos da escola: \n",
      "['Ana', 'Artur', 'Beatriz', 'Bruna', 'Bruna', 'Bruna', 'Caio', 'Caio', 'Carolina', 'Carolina', 'Flávia', 'Flávia', 'Gabriel', 'Juliano', 'Juliano', 'Maria', 'Maria', 'Maria', 'Paula', 'Pedro', 'Rubens', 'Rui', 'Rui', 'Tiago']\n"
     ]
    }
   ],
   "source": [
    "# Resolução do problema 1 com listas\n",
    "# RESULTADO TERÁ ALUNOS REPETIDOS\n",
    "\n",
    "# Criação das listas de alunos da turma\n",
    "ING = ['Gabriel','Caio','Maria','Ana','Juliano','Flávia','Rubens','Bruna']\n",
    "ESP = ['Caio','Artur','Beatriz','Carolina','Maria','Juliano','Bruna','Rui']\n",
    "FRA = ['Pedro','Bruna','Paula','Tiago','Maria','Flávia','Rui','Carolina']\n",
    "\n",
    "# Concatenação de todas as listas de alunos\n",
    "\n",
    "TODOS = ING + ESP + FRA\n",
    "\n",
    "# Ordenação para melhor visualização\n",
    "TODOS.sort()\n",
    "\n",
    "print('Relação de todos os alunos da escola: ')\n",
    "print(TODOS)"
   ]
  },
  {
   "cell_type": "code",
   "execution_count": 27,
   "metadata": {},
   "outputs": [
    {
     "name": "stdout",
     "output_type": "stream",
     "text": [
      "Relação de todos os alunos da escola: \n",
      "{'Ana', 'Artur', 'Pedro', 'Gabriel', 'Rubens', 'Caio', 'Bruna', 'Beatriz', 'Flávia', 'Rui', 'Carolina', 'Juliano', 'Tiago', 'Paula', 'Maria'}\n"
     ]
    }
   ],
   "source": [
    "# Resolução do problema 1 com conjuntos\n",
    "# RESULTADO NÃO TERÁ ALUNOS REPETIDOS\n",
    "\n",
    "# Criação das listas de alunos da turma\n",
    "ING = {'Gabriel','Caio','Maria','Ana','Juliano','Flávia','Rubens','Bruna'}\n",
    "ESP = {'Caio','Artur','Beatriz','Carolina','Maria','Juliano','Bruna','Rui'}\n",
    "FRA = {'Pedro','Bruna','Paula','Tiago','Maria','Flávia','Rui','Carolina'}\n",
    "\n",
    "# União de todos os conjuntos de alunos\n",
    "\n",
    "TODOS = ING | ESP | FRA\n",
    "\n",
    "\n",
    "print('Relação de todos os alunos da escola: ')\n",
    "print(TODOS)"
   ]
  },
  {
   "cell_type": "code",
   "execution_count": 29,
   "metadata": {},
   "outputs": [
    {
     "name": "stdout",
     "output_type": "stream",
     "text": [
      "Relação de todos os alunos da escola: \n",
      "{'Carolina', 'Juliano', 'Maria', 'Caio', 'Bruna', 'Flávia', 'Rui'}\n"
     ]
    }
   ],
   "source": [
    "# Resolução do problema 2 com conjuntos\n",
    "# RESULTADO NÃO TERÁ ALUNOS REPETIDOS\n",
    "\n",
    "# Criação das listas de alunos da turma\n",
    "ING = {'Gabriel','Caio','Maria','Ana','Juliano','Flávia','Rubens','Bruna'}\n",
    "ESP = {'Caio','Artur','Beatriz','Carolina','Maria','Juliano','Bruna','Rui'}\n",
    "FRA = {'Pedro','Bruna','Paula','Tiago','Maria','Flávia','Rui','Carolina'}\n",
    "\n",
    "# Intersecção entre os pares de turmas: (ING & ESP), (ING & FRA), (ING & FRA)\n",
    "# Calcula a união das intersecções\n",
    "\n",
    "ALUNOS_DESCONTO = (ING & ESP) | (ING & FRA) | (ESP & FRA)\n",
    "\n",
    "\n",
    "print('Relação de todos os alunos da escola: ')\n",
    "print(ALUNOS_DESCONTO)"
   ]
  },
  {
   "cell_type": "code",
   "execution_count": null,
   "metadata": {},
   "outputs": [],
   "source": []
  }
 ],
 "metadata": {
  "kernelspec": {
   "display_name": "Python 3",
   "language": "python",
   "name": "python3"
  },
  "language_info": {
   "codemirror_mode": {
    "name": "ipython",
    "version": 3
   },
   "file_extension": ".py",
   "mimetype": "text/x-python",
   "name": "python",
   "nbconvert_exporter": "python",
   "pygments_lexer": "ipython3",
   "version": "3.11.3"
  },
  "orig_nbformat": 4
 },
 "nbformat": 4,
 "nbformat_minor": 2
}
