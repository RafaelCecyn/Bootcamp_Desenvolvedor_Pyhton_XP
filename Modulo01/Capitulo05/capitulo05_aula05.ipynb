{
 "cells": [
  {
   "attachments": {},
   "cell_type": "markdown",
   "metadata": {},
   "source": [
    "# Capítulo 05 - Estruturas de Dados em Python"
   ]
  },
  {
   "attachments": {},
   "cell_type": "markdown",
   "metadata": {},
   "source": [
    "# Aula 05 Dicionários (dict)\n",
    "- Criação dos dicionários e acesso aos elementos\n",
    "- Operações com dicionários\n",
    "- Iteração sobre dicionários"
   ]
  },
  {
   "attachments": {},
   "cell_type": "markdown",
   "metadata": {},
   "source": [
    "## Criação dos Dicionários e Acesso dos Elementos"
   ]
  },
  {
   "cell_type": "code",
   "execution_count": 1,
   "metadata": {},
   "outputs": [
    {
     "name": "stdout",
     "output_type": "stream",
     "text": [
      "{'nome': 'Antônio', 'idade': 36, 'sexo': 'masculino'}\n"
     ]
    }
   ],
   "source": [
    "# Dicionário onde as chaves são do tipo string\n",
    "\n",
    "d1 = {'nome':'Antônio','idade': 36,'sexo':'masculino'}\n",
    "print(d1)"
   ]
  },
  {
   "cell_type": "code",
   "execution_count": 2,
   "metadata": {},
   "outputs": [
    {
     "name": "stdout",
     "output_type": "stream",
     "text": [
      "{2: 'dois', 1: 'um', 4: 'quatro', 3: 'três', 0: 'zero'}\n"
     ]
    }
   ],
   "source": [
    "# Dicionário onde as chaves são do tipo inteiro\n",
    "d2 = {2:'dois',1:'um',4:'quatro',3:'três',0:'zero'}\n",
    "print(d2)"
   ]
  },
  {
   "cell_type": "code",
   "execution_count": 3,
   "metadata": {},
   "outputs": [
    {
     "name": "stdout",
     "output_type": "stream",
     "text": [
      "{2: 'a', 5.44: True, 'key': None}\n"
     ]
    }
   ],
   "source": [
    "# Dicionário com chaves de tipos mistos\n",
    "d3 = {2:'a',5.44:True,'key':None}\n",
    "print(d3)"
   ]
  },
  {
   "cell_type": "code",
   "execution_count": 4,
   "metadata": {},
   "outputs": [
    {
     "name": "stdout",
     "output_type": "stream",
     "text": [
      "{}\n"
     ]
    }
   ],
   "source": [
    "# Dicionário vazio\n",
    "d4 = {}\n",
    "print(d4)"
   ]
  },
  {
   "cell_type": "code",
   "execution_count": 8,
   "metadata": {},
   "outputs": [
    {
     "name": "stdout",
     "output_type": "stream",
     "text": [
      "zero\n",
      "dois\n"
     ]
    }
   ],
   "source": [
    "# Criação dos dicionários\n",
    "d1 = {2:'dois',1:'um',4:'quatro',3:'três',0:'zero'}\n",
    "d2 = {'nome':'Antônio','idade': 36,'sexo':'masculino'}\n",
    "\n",
    "# Acesso aos elementos\n",
    "print(d1[0])\n",
    "print(d1[2])\n"
   ]
  },
  {
   "cell_type": "code",
   "execution_count": 13,
   "metadata": {},
   "outputs": [
    {
     "name": "stdout",
     "output_type": "stream",
     "text": [
      "Meu nome é Antônio e tenho 36 anos.\n"
     ]
    }
   ],
   "source": [
    "print(f'Meu nome é {d2[\"nome\"]} e tenho {d2[\"idade\"]} anos.')"
   ]
  },
  {
   "attachments": {},
   "cell_type": "markdown",
   "metadata": {},
   "source": [
    "# Operações com dicionários"
   ]
  },
  {
   "cell_type": "code",
   "execution_count": 16,
   "metadata": {},
   "outputs": [
    {
     "name": "stdout",
     "output_type": "stream",
     "text": [
      "{'nome': 'Antônio Carlos', 'idade': 36, 'sexo': 'masculino'}\n"
     ]
    }
   ],
   "source": [
    "# Criação do dicionário e atualização\n",
    "d1 = {'nome':'Antônio','idade': 36,'sexo':'masculino'}\n",
    "d1[\"nome\"] = \"Antônio Carlos\"\n",
    "print(d1)"
   ]
  },
  {
   "cell_type": "code",
   "execution_count": 18,
   "metadata": {},
   "outputs": [
    {
     "name": "stdout",
     "output_type": "stream",
     "text": [
      "{'nome': 'Antônio Carlos', 'idade': 36, 'sexo': 'masculino', 'Endereço': 'Rua 123'}\n"
     ]
    }
   ],
   "source": [
    "# Adição da chave endereço\n",
    "d1[\"Endereço\"] = \"Rua 123\"\n",
    "print(d1)"
   ]
  },
  {
   "cell_type": "code",
   "execution_count": 20,
   "metadata": {},
   "outputs": [
    {
     "name": "stdout",
     "output_type": "stream",
     "text": [
      "{'zero': 0, 'um': 1, 'dois': 2, 'tres': 3, 'quatro': 4}\n"
     ]
    }
   ],
   "source": [
    "# Crie o dicionário\n",
    "d1 = {'zero':0,'um':1,'dois':2,'tres':3,'quatro':4}\n",
    "print(d1)"
   ]
  },
  {
   "cell_type": "code",
   "execution_count": 21,
   "metadata": {},
   "outputs": [
    {
     "name": "stdout",
     "output_type": "stream",
     "text": [
      "Maior e menor chaves: zero dois\n"
     ]
    }
   ],
   "source": [
    "# ENCONTRA A MAIOR E MENOR CHAVE -> ZERO POIS COMEÇA COM Z NO MAX E MIN DOIS POIS COMEÇA COM D\n",
    "print('Maior e menor chaves:', max(d1), min(d1))"
   ]
  },
  {
   "cell_type": "code",
   "execution_count": 22,
   "metadata": {},
   "outputs": [
    {
     "name": "stdout",
     "output_type": "stream",
     "text": [
      "{'zero': 0, 'um': 1, 'dois': 2, 'tres': 3, 'quatro': 4, 'cinco': 5, 'seis': 6}\n"
     ]
    }
   ],
   "source": [
    "# Adiciona elementos de um outro dicionário\n",
    "d1.update({'cinco':5,'seis':6})\n",
    "print(d1)"
   ]
  },
  {
   "cell_type": "code",
   "execution_count": 25,
   "metadata": {},
   "outputs": [
    {
     "name": "stdout",
     "output_type": "stream",
     "text": [
      "A chave 'dois' está no dicionário? True\n",
      "A chave 5 não está no dicionário? False\n"
     ]
    }
   ],
   "source": [
    "# Verifica se o dicionário possui as seguintes chaves\n",
    "print(\"A chave 'dois' está no dicionário?\",'dois' in d1)\n",
    "print(\"A chave 5 não está no dicionário?\", 5 in d1)"
   ]
  },
  {
   "cell_type": "code",
   "execution_count": 26,
   "metadata": {},
   "outputs": [
    {
     "name": "stdout",
     "output_type": "stream",
     "text": [
      "{'um': 1, 'dois': 2, 'tres': 3, 'quatro': 4, 'cinco': 5, 'seis': 6}\n"
     ]
    }
   ],
   "source": [
    "# Remove o elemento com chave zero\n",
    "d1.pop('zero')\n",
    "print(d1)"
   ]
  },
  {
   "attachments": {},
   "cell_type": "markdown",
   "metadata": {},
   "source": [
    "## Interação sobre os dicionários"
   ]
  },
  {
   "cell_type": "code",
   "execution_count": 1,
   "metadata": {},
   "outputs": [
    {
     "name": "stdout",
     "output_type": "stream",
     "text": [
      "zero\n",
      "um\n",
      "dois\n",
      "tres\n",
      "quatro\n"
     ]
    }
   ],
   "source": [
    "# Cria o dicionário\n",
    "\n",
    "d1 = {'zero':0,'um':1,'dois':2,'tres':3,'quatro':4}\n",
    "\n",
    "for key in d1:\n",
    "    print(key)"
   ]
  },
  {
   "cell_type": "code",
   "execution_count": 3,
   "metadata": {},
   "outputs": [
    {
     "name": "stdout",
     "output_type": "stream",
     "text": [
      "zero 0\n",
      "um 1\n",
      "dois 2\n",
      "tres 3\n",
      "quatro 4\n"
     ]
    }
   ],
   "source": [
    "for key in d1:\n",
    "    print(key,d1[key])"
   ]
  },
  {
   "cell_type": "code",
   "execution_count": 5,
   "metadata": {},
   "outputs": [
    {
     "name": "stdout",
     "output_type": "stream",
     "text": [
      "Chave tres encontrada\n"
     ]
    }
   ],
   "source": [
    "# Itera sobre as chaves\n",
    "\n",
    "for key in d1:\n",
    "    if key == 'tres':\n",
    "        print('Chave tres encontrada')\n",
    "for key in d1.keys():\n",
    "    if key == 'dez':\n",
    "        print('Chave dez encontrada')"
   ]
  },
  {
   "cell_type": "code",
   "execution_count": 6,
   "metadata": {},
   "outputs": [
    {
     "name": "stdout",
     "output_type": "stream",
     "text": [
      "0\n",
      "1\n",
      "2\n",
      "3\n",
      "4\n"
     ]
    }
   ],
   "source": [
    "# Itera sobre os valores\n",
    "for value in d1.values():\n",
    "    print(value)"
   ]
  },
  {
   "cell_type": "code",
   "execution_count": 7,
   "metadata": {},
   "outputs": [
    {
     "name": "stdout",
     "output_type": "stream",
     "text": [
      "A soma dos valores do dicionário é  10\n"
     ]
    }
   ],
   "source": [
    "# Soma dos valores\n",
    "soma = 0\n",
    "for value in d1.values():\n",
    "    soma = soma + value\n",
    "print('A soma dos valores do dicionário é ',soma)"
   ]
  },
  {
   "cell_type": "code",
   "execution_count": 8,
   "metadata": {},
   "outputs": [
    {
     "name": "stdout",
     "output_type": "stream",
     "text": [
      "zero 0\n",
      "um 1\n",
      "dois 2\n",
      "tres 3\n",
      "quatro 4\n"
     ]
    }
   ],
   "source": [
    "# Itera sobre os itens\n",
    "for key,value in d1.items():\n",
    "    print(key, value)"
   ]
  },
  {
   "cell_type": "code",
   "execution_count": 9,
   "metadata": {},
   "outputs": [],
   "source": [
    "dic = {}"
   ]
  },
  {
   "cell_type": "code",
   "execution_count": 10,
   "metadata": {},
   "outputs": [],
   "source": [
    "dic['chave'] = 99"
   ]
  },
  {
   "cell_type": "code",
   "execution_count": 11,
   "metadata": {},
   "outputs": [
    {
     "data": {
      "text/plain": [
       "{'chave': 99}"
      ]
     },
     "execution_count": 11,
     "metadata": {},
     "output_type": "execute_result"
    }
   ],
   "source": [
    "dic"
   ]
  },
  {
   "attachments": {},
   "cell_type": "markdown",
   "metadata": {},
   "source": [
    "## Posso colocar tupla dentro de DICT mas não posso colocar lista"
   ]
  },
  {
   "cell_type": "code",
   "execution_count": 12,
   "metadata": {},
   "outputs": [],
   "source": [
    "dic[(0,1,2)] = 'antonio'"
   ]
  },
  {
   "cell_type": "code",
   "execution_count": 13,
   "metadata": {},
   "outputs": [
    {
     "data": {
      "text/plain": [
       "{'chave': 99, (0, 1, 2): 'antonio'}"
      ]
     },
     "execution_count": 13,
     "metadata": {},
     "output_type": "execute_result"
    }
   ],
   "source": [
    "dic"
   ]
  },
  {
   "cell_type": "code",
   "execution_count": 14,
   "metadata": {},
   "outputs": [
    {
     "data": {
      "text/plain": [
       "'antonio'"
      ]
     },
     "execution_count": 14,
     "metadata": {},
     "output_type": "execute_result"
    }
   ],
   "source": [
    "dic[(0,1,2)]"
   ]
  },
  {
   "cell_type": "code",
   "execution_count": null,
   "metadata": {},
   "outputs": [],
   "source": []
  }
 ],
 "metadata": {
  "kernelspec": {
   "display_name": "Python 3",
   "language": "python",
   "name": "python3"
  },
  "language_info": {
   "codemirror_mode": {
    "name": "ipython",
    "version": 3
   },
   "file_extension": ".py",
   "mimetype": "text/x-python",
   "name": "python",
   "nbconvert_exporter": "python",
   "pygments_lexer": "ipython3",
   "version": "3.11.3"
  },
  "orig_nbformat": 4
 },
 "nbformat": 4,
 "nbformat_minor": 2
}
