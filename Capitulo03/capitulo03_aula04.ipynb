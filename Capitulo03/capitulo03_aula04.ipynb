{
 "cells": [
  {
   "attachments": {},
   "cell_type": "markdown",
   "metadata": {},
   "source": [
    "# Capítulo 03 - Tipos Primitivos de Dados e Operadores"
   ]
  },
  {
   "attachments": {},
   "cell_type": "markdown",
   "metadata": {},
   "source": [
    "# Aula 04 - Conversão e Formatação dos Tipos de Dados\n",
    "- Conversão dos tipos de dados\n",
    "- Formatação utilizando f-strings"
   ]
  },
  {
   "attachments": {},
   "cell_type": "markdown",
   "metadata": {},
   "source": [
    "## Conversão dos tipos de Dados"
   ]
  },
  {
   "cell_type": "code",
   "execution_count": 6,
   "metadata": {},
   "outputs": [
    {
     "name": "stdout",
     "output_type": "stream",
     "text": [
      "Eu tenho 36anos.\n"
     ]
    }
   ],
   "source": [
    "nascimento = 1986\n",
    "ano_atual = 2022\n",
    "idade = ano_atual - nascimento\n",
    "# saida = f'Eu tenho  anos'\n",
    "print('Eu tenho '+ str(idade)+'anos.')\n",
    "# print('Eu tenho '+ idade+ 'anos.') ERRO POIS NÃO PODE CONCATENAR STR COM INT"
   ]
  },
  {
   "cell_type": "code",
   "execution_count": 14,
   "metadata": {},
   "outputs": [
    {
     "name": "stdout",
     "output_type": "stream",
     "text": [
      "33\n"
     ]
    }
   ],
   "source": [
    "saida2 = str(idade)\n",
    "print(int(saida2)-3)"
   ]
  },
  {
   "cell_type": "code",
   "execution_count": 15,
   "metadata": {},
   "outputs": [
    {
     "name": "stdout",
     "output_type": "stream",
     "text": [
      "10.0\n",
      "True\n",
      "False\n",
      "9999\n"
     ]
    }
   ],
   "source": [
    "# Conversão do tipo inteiro\n",
    "print(float(10))\n",
    "print(bool(-1))\n",
    "print(bool(0))\n",
    "print(str(9999))"
   ]
  },
  {
   "cell_type": "code",
   "execution_count": 16,
   "metadata": {},
   "outputs": [
    {
     "name": "stdout",
     "output_type": "stream",
     "text": [
      "9\n",
      "True\n",
      "-0.99\n"
     ]
    }
   ],
   "source": [
    "# Conversão do tipo float\n",
    "print(int(9.9999))\n",
    "print(bool(-0.009))\n",
    "print(str(-0.99))"
   ]
  },
  {
   "cell_type": "code",
   "execution_count": 17,
   "metadata": {},
   "outputs": [
    {
     "data": {
      "text/plain": [
       "False"
      ]
     },
     "execution_count": 17,
     "metadata": {},
     "output_type": "execute_result"
    }
   ],
   "source": [
    "bool(0.00)"
   ]
  },
  {
   "cell_type": "code",
   "execution_count": 19,
   "metadata": {},
   "outputs": [
    {
     "name": "stdout",
     "output_type": "stream",
     "text": [
      "1\n",
      "0.0\n",
      "True\n"
     ]
    }
   ],
   "source": [
    "# Conversão do tipo bool\n",
    "print(int(True))\n",
    "print(float(False))\n",
    "print(str(True))"
   ]
  },
  {
   "cell_type": "code",
   "execution_count": 20,
   "metadata": {},
   "outputs": [
    {
     "name": "stdout",
     "output_type": "stream",
     "text": [
      "-99\n",
      "0.01\n",
      "True\n",
      "False\n"
     ]
    }
   ],
   "source": [
    "# Conversão do tipo str\n",
    "print(int('-99'))\n",
    "print(float('0.01'))\n",
    "print(bool('palavra'))\n",
    "print(bool(''))"
   ]
  },
  {
   "cell_type": "code",
   "execution_count": 24,
   "metadata": {},
   "outputs": [
    {
     "data": {
      "text/plain": [
       "99"
      ]
     },
     "execution_count": 24,
     "metadata": {},
     "output_type": "execute_result"
    }
   ],
   "source": [
    "int(float('99.0'))"
   ]
  },
  {
   "cell_type": "code",
   "execution_count": 25,
   "metadata": {},
   "outputs": [
    {
     "name": "stdout",
     "output_type": "stream",
     "text": [
      "None\n",
      "False\n"
     ]
    }
   ],
   "source": [
    "# Particularidades com  tipo None só funciona com str e bool\n",
    "print(str(None))\n",
    "print(bool(None))"
   ]
  },
  {
   "attachments": {},
   "cell_type": "markdown",
   "metadata": {},
   "source": [
    "# Formatação com f strings"
   ]
  },
  {
   "cell_type": "code",
   "execution_count": 27,
   "metadata": {},
   "outputs": [
    {
     "name": "stdout",
     "output_type": "stream",
     "text": [
      "Eu tenho idade=10 anos\n"
     ]
    }
   ],
   "source": [
    "idade = 10\n",
    "print(f'Eu tenho {idade=} anos')"
   ]
  },
  {
   "cell_type": "code",
   "execution_count": 31,
   "metadata": {},
   "outputs": [
    {
     "name": "stdout",
     "output_type": "stream",
     "text": [
      "Porcentagem gasto do orçamento é 8.60%\n"
     ]
    }
   ],
   "source": [
    "orcamento = 5000\n",
    "vlr_gasto = 430\n",
    "pcr = (vlr_gasto/orcamento) * 100\n",
    "print(f'Porcentagem gasto do orçamento é {pcr:.2f}%')"
   ]
  },
  {
   "cell_type": "code",
   "execution_count": 33,
   "metadata": {},
   "outputs": [
    {
     "name": "stdout",
     "output_type": "stream",
     "text": [
      "Porcentagem gasto do orçamento é 8.60%\n"
     ]
    }
   ],
   "source": [
    "# Importante com pcr:. 2%\n",
    "orcamento = 5000\n",
    "vlr_gasto = 430\n",
    "pcr = (vlr_gasto/orcamento)\n",
    "print(f'Porcentagem gasto do orçamento é {pcr:.2%}')"
   ]
  }
 ],
 "metadata": {
  "kernelspec": {
   "display_name": "Python 3",
   "language": "python",
   "name": "python3"
  },
  "language_info": {
   "codemirror_mode": {
    "name": "ipython",
    "version": 3
   },
   "file_extension": ".py",
   "mimetype": "text/x-python",
   "name": "python",
   "nbconvert_exporter": "python",
   "pygments_lexer": "ipython3",
   "version": "3.11.1"
  },
  "orig_nbformat": 4
 },
 "nbformat": 4,
 "nbformat_minor": 2
}
