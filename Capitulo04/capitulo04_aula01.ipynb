{
 "cells": [
  {
   "attachments": {},
   "cell_type": "markdown",
   "metadata": {},
   "source": [
    "# Capítulo 04 - Fluxos de Controle em Python"
   ]
  },
  {
   "attachments": {},
   "cell_type": "markdown",
   "metadata": {},
   "source": [
    "## Aula 01 - Conversão e Formatação dos Tipos de Dados\n",
    "- Estrutura condicional if\n",
    "- Estrutura condicional if - else\n",
    "- Estrutura condicional if - elif - else"
   ]
  },
  {
   "cell_type": "code",
   "execution_count": 8,
   "metadata": {},
   "outputs": [
    {
     "name": "stdout",
     "output_type": "stream",
     "text": [
      "149 52 48 2500\n"
     ]
    }
   ],
   "source": [
    "y =  0\n",
    "a = 0\n",
    "b = 0\n",
    "c = 0\n",
    "x = 50\n",
    "if x > 10:\n",
    "    y = x + 99\n",
    "    a = x + 2\n",
    "    b = x - 2 \n",
    "    c = x ** 2\n",
    "print(y,a,b,c)"
   ]
  },
  {
   "cell_type": "code",
   "execution_count": 13,
   "metadata": {},
   "outputs": [
    {
     "name": "stdout",
     "output_type": "stream",
     "text": [
      "Habilitado para se aposentar\n"
     ]
    }
   ],
   "source": [
    "# Verifica se aposenta a pessoa\n",
    "idade = 50\n",
    "tempo_contrib = 35\n",
    "if (idade >= 65 or tempo_contrib >= 35):\n",
    "    print('Habilitado para se aposentar')"
   ]
  },
  {
   "cell_type": "code",
   "execution_count": 12,
   "metadata": {},
   "outputs": [
    {
     "name": "stdout",
     "output_type": "stream",
     "text": [
      "Habilitado para se aposentar\n"
     ]
    }
   ],
   "source": [
    "# Verifica se aposenta a pessoa\n",
    "idade = 70\n",
    "tempo_contrib = 35\n",
    "if (idade >= 65 and tempo_contrib >= 35):\n",
    "    print('Habilitado para se aposentar')"
   ]
  },
  {
   "cell_type": "code",
   "execution_count": 16,
   "metadata": {},
   "outputs": [
    {
     "name": "stdout",
     "output_type": "stream",
     "text": [
      "Minha idade é 35\n"
     ]
    }
   ],
   "source": [
    "idade = 35\n",
    "\n",
    "if idade >= 15:\n",
    "    print(f'Minha idade é {idade}')\n",
    "else:\n",
    "    print('Não tenho idade')"
   ]
  },
  {
   "cell_type": "code",
   "execution_count": 17,
   "metadata": {},
   "outputs": [
    {
     "name": "stdout",
     "output_type": "stream",
     "text": [
      "25\n"
     ]
    }
   ],
   "source": [
    "x = 5\n",
    "y = 0\n",
    "if x > 10:\n",
    "    y = x * 2\n",
    "else:\n",
    "    y = x **2\n",
    "print(y)"
   ]
  },
  {
   "cell_type": "code",
   "execution_count": 18,
   "metadata": {},
   "outputs": [
    {
     "name": "stdout",
     "output_type": "stream",
     "text": [
      "Não pode se aposentar\n"
     ]
    }
   ],
   "source": [
    "# Verifica se uma pessoa está apta para se aposentar\n",
    "idade = 20\n",
    "tempo_contrib = 20\n",
    "\n",
    "if idade >= 65:\n",
    "    print('A pessoa está habilitada para se aposentar por idade')\n",
    "else:\n",
    "    if tempo_contrib >= 35:\n",
    "        print('A pessoa está habilitada para se aposentar por tempo de contribuição')\n",
    "    else:\n",
    "        print('Não pode se aposentar')\n"
   ]
  },
  {
   "attachments": {},
   "cell_type": "markdown",
   "metadata": {},
   "source": [
    "# Estrutura Condicional if - elif - else"
   ]
  },
  {
   "attachments": {},
   "cell_type": "markdown",
   "metadata": {},
   "source": [
    "## Consideram o problema de classificar a faixa etária de uma pessoa segundo a sua idade"
   ]
  },
  {
   "cell_type": "code",
   "execution_count": 19,
   "metadata": {},
   "outputs": [
    {
     "name": "stdout",
     "output_type": "stream",
     "text": [
      "Adulto\n"
     ]
    }
   ],
   "source": [
    "idade = 22\n",
    "\n",
    "if idade < 12:\n",
    "    print('Criança')\n",
    "elif idade < 18:\n",
    "    print('Adoslecente')\n",
    "elif idade < 60:\n",
    "    print('Adulto')\n",
    "else:\n",
    "    print('Idoso')"
   ]
  },
  {
   "cell_type": "code",
   "execution_count": null,
   "metadata": {},
   "outputs": [],
   "source": []
  }
 ],
 "metadata": {
  "kernelspec": {
   "display_name": "Python 3",
   "language": "python",
   "name": "python3"
  },
  "language_info": {
   "codemirror_mode": {
    "name": "ipython",
    "version": 3
   },
   "file_extension": ".py",
   "mimetype": "text/x-python",
   "name": "python",
   "nbconvert_exporter": "python",
   "pygments_lexer": "ipython3",
   "version": "3.11.1"
  },
  "orig_nbformat": 4
 },
 "nbformat": 4,
 "nbformat_minor": 2
}
