{
 "cells": [
  {
   "attachments": {},
   "cell_type": "markdown",
   "metadata": {},
   "source": [
    "# Comparações"
   ]
  },
  {
   "cell_type": "code",
   "execution_count": 1,
   "metadata": {},
   "outputs": [],
   "source": [
    "import numpy as np"
   ]
  },
  {
   "cell_type": "code",
   "execution_count": 3,
   "metadata": {},
   "outputs": [
    {
     "name": "stdout",
     "output_type": "stream",
     "text": [
      "x: \n",
      " [[1 2]\n",
      " [3 4]]\n",
      "y: \n",
      " [1.5 3.5]\n"
     ]
    }
   ],
   "source": [
    "# criação dos arrays\n",
    "x = np.array([[1,2],[3,4]])\n",
    "y = np.array([1.5,3.5])\n",
    "print(\"x: \\n\",x)\n",
    "print(\"y: \\n\",y)"
   ]
  },
  {
   "cell_type": "code",
   "execution_count": 4,
   "metadata": {},
   "outputs": [
    {
     "name": "stdout",
     "output_type": "stream",
     "text": [
      "Comparação de um array com um escalar (>): \n",
      " [[False False]\n",
      " [ True  True]]\n",
      "Comparação de um array com um escalar (>=): \n",
      " [[False  True]\n",
      " [ True  True]]\n",
      "Comparação de um array com um escalar (<): \n",
      " [[ True False]\n",
      " [False False]]\n",
      "Comparação de um array com um escalar (<=): \n",
      " [[ True  True]\n",
      " [False False]]\n"
     ]
    }
   ],
   "source": [
    "# comparações ponto a ponto\n",
    "print(\"Comparação de um array com um escalar (>): \\n\", x > 2)\n",
    "print(\"Comparação de um array com um escalar (>=): \\n\", x >= 2)\n",
    "print(\"Comparação de um array com um escalar (<): \\n\", x < 2)\n",
    "print(\"Comparação de um array com um escalar (<=): \\n\", x<=2)"
   ]
  },
  {
   "cell_type": "code",
   "execution_count": 6,
   "metadata": {},
   "outputs": [
    {
     "name": "stdout",
     "output_type": "stream",
     "text": [
      "Comparação entre arrays (==): \n",
      "  [[ True  True]\n",
      " [ True  True]]\n",
      "Comparação entre arrays (>): \n",
      "  [[False False]\n",
      " [False False]]\n",
      "Comparação entre arrays (>): \n",
      "  [[False False]\n",
      " [ True  True]]\n"
     ]
    }
   ],
   "source": [
    "print(\"Comparação entre arrays (==): \\n \", x==x)\n",
    "print(\"Comparação entre arrays (>): \\n \", x>x)\n",
    "print(\"Comparação entre arrays (>): \\n \", x>y) # Importante compara arrays com dimensões distintas"
   ]
  },
  {
   "attachments": {},
   "cell_type": "markdown",
   "metadata": {},
   "source": [
    "# Indexação booleana"
   ]
  },
  {
   "cell_type": "code",
   "execution_count": 7,
   "metadata": {},
   "outputs": [
    {
     "name": "stdout",
     "output_type": "stream",
     "text": [
      "X: \n",
      " [[ 1  3  7]\n",
      " [ 4 11 21]\n",
      " [42  8  9]]\n"
     ]
    }
   ],
   "source": [
    "# indexação booleana\n",
    "\n",
    "x = np.array([[1,3,7],[4,11,21],[42,8,9]])\n",
    "print(\"X: \\n\", x)"
   ]
  },
  {
   "cell_type": "code",
   "execution_count": 11,
   "metadata": {},
   "outputs": [
    {
     "name": "stdout",
     "output_type": "stream",
     "text": [
      "condição: \n",
      " [[False False False]\n",
      " [False  True  True]\n",
      " [ True False False]]\n",
      "elementos maiores que 10: [11 21 42]\n",
      "número de elementos maiores que 10: 3\n"
     ]
    }
   ],
   "source": [
    "# indexação booleana: retornar o número de elementos\n",
    "# maiores que k\n",
    "k = 10\n",
    "cond = x > k\n",
    "print(\"condição: \\n\", cond) \n",
    "print(f\"elementos maiores que {k}:\", x[cond])\n",
    "print(f\"número de elementos maiores que {k}:\", len(x[cond]))"
   ]
  },
  {
   "cell_type": "code",
   "execution_count": 13,
   "metadata": {},
   "outputs": [
    {
     "name": "stdout",
     "output_type": "stream",
     "text": [
      "condição: \n",
      " [[False False False]\n",
      " [ True False False]\n",
      " [ True  True False]]\n",
      "números pares: [ 4 42  8]\n"
     ]
    }
   ],
   "source": [
    "# indexação booleana: extração dos números pares\n",
    "cond = x % 2 == 0 # números pares\n",
    "print(\"condição: \\n\", cond) \n",
    "print(\"números pares:\", x[cond])\n",
    "\n"
   ]
  },
  {
   "cell_type": "code",
   "execution_count": 14,
   "metadata": {},
   "outputs": [
    {
     "name": "stdout",
     "output_type": "stream",
     "text": [
      "condição: \n",
      " [[ True  True  True]\n",
      " [False  True  True]\n",
      " [False False  True]]\n",
      "números impares: [ 1  3  7 11 21  9]\n"
     ]
    }
   ],
   "source": [
    "# indexação booleana: extração dos números impares\n",
    "cond = x % 2 != 0 # números pares\n",
    "print(\"condição: \\n\", cond) \n",
    "print(\"números impares:\", x[cond])"
   ]
  },
  {
   "cell_type": "code",
   "execution_count": null,
   "metadata": {},
   "outputs": [],
   "source": []
  }
 ],
 "metadata": {
  "kernelspec": {
   "display_name": "Python 3",
   "language": "python",
   "name": "python3"
  },
  "language_info": {
   "codemirror_mode": {
    "name": "ipython",
    "version": 3
   },
   "file_extension": ".py",
   "mimetype": "text/x-python",
   "name": "python",
   "nbconvert_exporter": "python",
   "pygments_lexer": "ipython3",
   "version": "3.11.3"
  },
  "orig_nbformat": 4
 },
 "nbformat": 4,
 "nbformat_minor": 2
}
