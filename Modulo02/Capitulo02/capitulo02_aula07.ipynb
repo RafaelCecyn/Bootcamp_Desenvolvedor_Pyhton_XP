{
 "cells": [
  {
   "attachments": {},
   "cell_type": "markdown",
   "metadata": {},
   "source": [
    "# Funções aritméticas: multiplicação"
   ]
  },
  {
   "cell_type": "code",
   "execution_count": 2,
   "metadata": {},
   "outputs": [],
   "source": [
    "import numpy as np"
   ]
  },
  {
   "cell_type": "code",
   "execution_count": 3,
   "metadata": {},
   "outputs": [
    {
     "name": "stdout",
     "output_type": "stream",
     "text": [
      "x:\n",
      " [[1. 1.]\n",
      " [1. 1.]]\n",
      "y:\n",
      " [[1. 0.]\n",
      " [0. 1.]]\n"
     ]
    }
   ],
   "source": [
    "# multiplicações elemento a elemento\n",
    "x = np.ones((2,2))\n",
    "y = np.eye(2)\n",
    "print('x:\\n',x)\n",
    "print('y:\\n',y)"
   ]
  },
  {
   "cell_type": "code",
   "execution_count": 6,
   "metadata": {},
   "outputs": [
    {
     "name": "stdout",
     "output_type": "stream",
     "text": [
      "multiplicação de dois arrays:\n",
      " [[1. 0.]\n",
      " [0. 1.]]\n",
      "multiplicação com float/int:\n",
      " [[2. 2.]\n",
      " [2. 2.]]\n"
     ]
    }
   ],
   "source": [
    "# multiplicação\n",
    "print('multiplicação de dois arrays:\\n', x * y)\n",
    "print('multiplicação com float/int:\\n', x*2)"
   ]
  },
  {
   "cell_type": "code",
   "execution_count": 7,
   "metadata": {},
   "outputs": [
    {
     "name": "stdout",
     "output_type": "stream",
     "text": [
      "multiplicação matricial (np.dot):\n",
      " [[1. 1.]\n",
      " [1. 1.]]\n",
      "multiplicação matricial (@):\n",
      "  [[1. 1.]\n",
      " [1. 1.]]\n",
      "multiplicação matricial (.dot):\n",
      "  [[1. 1.]\n",
      " [1. 1.]]\n"
     ]
    }
   ],
   "source": [
    "# multiplicação matricial\n",
    "print('multiplicação matricial (np.dot):\\n',np.dot(x,y))\n",
    "print('multiplicação matricial (@):\\n ', x @ y)\n",
    "print('multiplicação matricial (.dot):\\n ', x.dot(y))"
   ]
  },
  {
   "attachments": {},
   "cell_type": "markdown",
   "metadata": {},
   "source": [
    "## Solução de sistemas"
   ]
  },
  {
   "cell_type": "code",
   "execution_count": 19,
   "metadata": {},
   "outputs": [
    {
     "name": "stdout",
     "output_type": "stream",
     "text": [
      "A:\n",
      " [[1 2]\n",
      " [3 2]]\n",
      "C:\n",
      " [[  7]\n",
      " [-11]]\n"
     ]
    }
   ],
   "source": [
    "\"\"\" \n",
    "Exemplo:\n",
    "Solução de um sistema de equações:\n",
    "a + 2*b = 7\n",
    "3a + 2*b = -11\n",
    "    solução analítica: (a,b) = (-1,4)\n",
    "Matricialmente, este problema tem a seguinte forma:\n",
    "Ax = C, onde\n",
    "- x = [a,b]\n",
    "- A = [[1,2],[3,2]]\n",
    "- C = [7,-11]\n",
    "solução numérica: x = inv(A) @ C,\n",
    "\"\"\"\n",
    "\n",
    "# definição do problema\n",
    "A = np.array([[1,2],[3,2]])\n",
    "C = np.array([[7],[-11]])\n",
    "print('A:\\n',A)\n",
    "print('C:\\n',C)\n"
   ]
  },
  {
   "cell_type": "code",
   "execution_count": 21,
   "metadata": {},
   "outputs": [
    {
     "name": "stdout",
     "output_type": "stream",
     "text": [
      "(a,b) [-9.  8.]\n"
     ]
    }
   ],
   "source": [
    "# solução\n",
    "\n",
    "# x = np.dot(np.linalg.inv(A),C)\n",
    "x = np.linalg.inv(A) @ C\n",
    "print('(a,b)',x.ravel())"
   ]
  },
  {
   "cell_type": "code",
   "execution_count": null,
   "metadata": {},
   "outputs": [],
   "source": []
  }
 ],
 "metadata": {
  "kernelspec": {
   "display_name": "Python 3",
   "language": "python",
   "name": "python3"
  },
  "language_info": {
   "codemirror_mode": {
    "name": "ipython",
    "version": 3
   },
   "file_extension": ".py",
   "mimetype": "text/x-python",
   "name": "python",
   "nbconvert_exporter": "python",
   "pygments_lexer": "ipython3",
   "version": "3.11.3"
  },
  "orig_nbformat": 4
 },
 "nbformat": 4,
 "nbformat_minor": 2
}
