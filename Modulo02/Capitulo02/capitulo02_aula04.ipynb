{
 "cells": [
  {
   "attachments": {},
   "cell_type": "markdown",
   "metadata": {},
   "source": [
    "# Indexação de arrays"
   ]
  },
  {
   "cell_type": "code",
   "execution_count": 1,
   "metadata": {},
   "outputs": [],
   "source": [
    "import numpy as np"
   ]
  },
  {
   "cell_type": "code",
   "execution_count": 4,
   "metadata": {},
   "outputs": [
    {
     "name": "stdout",
     "output_type": "stream",
     "text": [
      "x:\n",
      " [ 10.  20.  30.  40.  50.  60.  70.  80.  90. 100.]\n",
      "shape: (10,)\n"
     ]
    }
   ],
   "source": [
    "# os indices no Python vão de 0 a n-1\n",
    "# onde n é o tamanho da dimensão\n",
    "\n",
    "x = np.linspace(start=10,stop=100,num=10)\n",
    "print('x:\\n',x)\n",
    "print('shape:',x.shape)  "
   ]
  },
  {
   "cell_type": "code",
   "execution_count": 7,
   "metadata": {},
   "outputs": [
    {
     "name": "stdout",
     "output_type": "stream",
     "text": [
      "x: [ 10.  20.  30.  40.  50.  60.  70.  80.  90. 100.]\n",
      "primeiro elemento: 10.0\n",
      "segundo elemento: 20.0\n",
      "último elemento: 100.0\n",
      "último elemento: 100.0\n"
     ]
    }
   ],
   "source": [
    "# extração de elementos\n",
    "print('x:',x)\n",
    "print('primeiro elemento:',x[0])\n",
    "print('segundo elemento:',x[1])\n",
    "print('último elemento:',x[9])\n",
    "print('último elemento:',x[-1])"
   ]
  },
  {
   "cell_type": "code",
   "execution_count": 13,
   "metadata": {},
   "outputs": [
    {
     "name": "stdout",
     "output_type": "stream",
     "text": [
      "x: [ 10.  20.  30.  40.  50.  60.  70.  80.  90. 100.]\n",
      "dois primeiros elementos: [10. 20.]\n",
      "dois primeiros elementos: [10. 20.]\n",
      "dois últimos elementos: [ 90. 100.]\n",
      "dois últimos elementos: [ 90. 100.]\n"
     ]
    }
   ],
   "source": [
    "# slacing: extração de subarray:\n",
    "print('x:',x)\n",
    "print('dois primeiros elementos:',x[0:2])\n",
    "print('dois primeiros elementos:',x[:2])\n",
    "print('dois últimos elementos:',x[-2:])\n",
    "print('dois últimos elementos:',x[8:])\n"
   ]
  },
  {
   "cell_type": "code",
   "execution_count": 15,
   "metadata": {},
   "outputs": [
    {
     "name": "stdout",
     "output_type": "stream",
     "text": [
      "x:\n",
      " [[ 10.  20.  30.  40.  50.]\n",
      " [ 60.  70.  80.  90. 100.]]\n"
     ]
    }
   ],
   "source": [
    "# slicing em arrays 2D (matrizes)\n",
    "x = x.reshape(2,5)\n",
    "print('x:\\n',x)\n"
   ]
  },
  {
   "cell_type": "code",
   "execution_count": 17,
   "metadata": {},
   "outputs": [
    {
     "name": "stdout",
     "output_type": "stream",
     "text": [
      "primeira linha, segunda coluna 20.0\n",
      "segunda linha, penúltima coluna 90.0\n",
      "última linha, última coluna 100.0\n",
      "última linha, última coluna 100.0\n"
     ]
    }
   ],
   "source": [
    "# extraçãp de elemtos\n",
    "print('primeira linha, segunda coluna',x[0,1])\n",
    "print('segunda linha, penúltima coluna',x[1,-2])\n",
    "print('última linha, última coluna',x[-1,-1])\n",
    "print('última linha, última coluna',x[1,4])"
   ]
  },
  {
   "cell_type": "code",
   "execution_count": 23,
   "metadata": {},
   "outputs": [
    {
     "name": "stdout",
     "output_type": "stream",
     "text": [
      "x:\n",
      " [[ 10.  20.  30.  40.  50.]\n",
      " [ 60.  70.  80.  90. 100.]]\n",
      "primeira linha inteira [10. 20. 30. 40. 50.]\n",
      "primeira linha, segunda a quarta coluna [20. 30. 40.]\n",
      "última coluna inteira\n",
      " [[ 50.]\n",
      " [100.]]\n"
     ]
    }
   ],
   "source": [
    "# slicing: extração de subarrays\n",
    "print('x:\\n',x)\n",
    "print('primeira linha inteira',x[0, :])\n",
    "print('primeira linha, segunda a quarta coluna',x[0,1:4])\n",
    "print('última coluna inteira\\n',x[:,[-1]])\n"
   ]
  },
  {
   "attachments": {},
   "cell_type": "markdown",
   "metadata": {},
   "source": [
    "# SLICE COMPARTILHA A MEMÓRIA DO ARRAY ORIGINAL"
   ]
  },
  {
   "attachments": {},
   "cell_type": "markdown",
   "metadata": {},
   "source": [
    "## EXEMPLO"
   ]
  },
  {
   "cell_type": "code",
   "execution_count": 25,
   "metadata": {},
   "outputs": [
    {
     "name": "stdout",
     "output_type": "stream",
     "text": [
      "x:\n",
      " [1 2 3]\n",
      "[-100    2    3]\n"
     ]
    }
   ],
   "source": [
    "# atenção com o compartilhamento de memória em subarrays!\n",
    "x = np.array([1,2,3])\n",
    "print('x:\\n',x)\n",
    "y = x[:2]\n",
    "y[0] = -100 # alteração do valor em y altera o valor de x\n",
    "print(x)\n"
   ]
  },
  {
   "attachments": {},
   "cell_type": "markdown",
   "metadata": {},
   "source": [
    "# PARA EVITAR O VALOR DO ARRAY PRINCIPAL DEVEMOS UTILIZAR O MÉTODO COPY\n"
   ]
  },
  {
   "cell_type": "code",
   "execution_count": 26,
   "metadata": {},
   "outputs": [
    {
     "name": "stdout",
     "output_type": "stream",
     "text": [
      "x:\n",
      " [1 2 3]\n",
      "[1 2 3]\n"
     ]
    }
   ],
   "source": [
    "# atenção com o compartilhamento de memória em subarrays!\n",
    "x = np.array([1,2,3])\n",
    "print('x:\\n',x)\n",
    "y = x[:2].copy()\n",
    "y[0] = -100 # não altera mais o valor de x\n",
    "print(x)"
   ]
  },
  {
   "cell_type": "code",
   "execution_count": null,
   "metadata": {},
   "outputs": [],
   "source": []
  }
 ],
 "metadata": {
  "kernelspec": {
   "display_name": "Python 3",
   "language": "python",
   "name": "python3"
  },
  "language_info": {
   "codemirror_mode": {
    "name": "ipython",
    "version": 3
   },
   "file_extension": ".py",
   "mimetype": "text/x-python",
   "name": "python",
   "nbconvert_exporter": "python",
   "pygments_lexer": "ipython3",
   "version": "3.11.3"
  },
  "orig_nbformat": 4
 },
 "nbformat": 4,
 "nbformat_minor": 2
}
