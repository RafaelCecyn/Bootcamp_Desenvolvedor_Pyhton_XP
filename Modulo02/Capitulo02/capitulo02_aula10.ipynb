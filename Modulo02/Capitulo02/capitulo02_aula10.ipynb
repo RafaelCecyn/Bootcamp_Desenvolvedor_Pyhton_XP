{
 "cells": [
  {
   "attachments": {},
   "cell_type": "markdown",
   "metadata": {},
   "source": [
    "# Outras operações úteis em numpy"
   ]
  },
  {
   "cell_type": "code",
   "execution_count": 1,
   "metadata": {},
   "outputs": [],
   "source": [
    "import numpy as np"
   ]
  },
  {
   "cell_type": "code",
   "execution_count": 4,
   "metadata": {},
   "outputs": [
    {
     "name": "stdout",
     "output_type": "stream",
     "text": [
      "X: \n",
      " [[ 1  3  7]\n",
      " [ 4 11 21]\n",
      " [42  8  9]]\n"
     ]
    }
   ],
   "source": [
    "# arrays\n",
    "x = np.array([[1,3,7],[4,11,21],[42,8,9]])\n",
    "print(\"X: \\n\", x)"
   ]
  },
  {
   "cell_type": "code",
   "execution_count": null,
   "metadata": {},
   "outputs": [],
   "source": [
    "# reshape: transformar a matriz em um vetor coluna\n",
    "# (3,3) vira (9,1) : 3*3 = 9*1 = 9\n",
    "print('transformação em um vetor coluna', x.reshape(9,1))\n",
    "print('transformação em um vetor linha', x.reshape(1,9))"
   ]
  },
  {
   "cell_type": "code",
   "execution_count": 7,
   "metadata": {},
   "outputs": [
    {
     "name": "stdout",
     "output_type": "stream",
     "text": [
      "x transposta: \n",
      " [[ 1  4 42]\n",
      " [ 3 11  8]\n",
      " [ 7 21  9]]\n"
     ]
    }
   ],
   "source": [
    "# transposição de matriz\n",
    "print(\"x transposta: \\n\", x.T)"
   ]
  },
  {
   "cell_type": "code",
   "execution_count": 10,
   "metadata": {},
   "outputs": [
    {
     "name": "stdout",
     "output_type": "stream",
     "text": [
      "X:\n",
      " [[ 1  3  7]\n",
      " [ 4 11 21]\n",
      " [42  8  9]]\n",
      "soma de todos os elementos de x: 106\n",
      "soma de x ao longo das linhas: [47 22 37]\n",
      "soma de x ao longo das colunas: [11 36 59]\n"
     ]
    }
   ],
   "source": [
    "# np.sum: soma em um dado eixo, axis = {0:linha, 1:coluna}\n",
    "print('X:\\n',x)\n",
    "print('soma de todos os elementos de x:',np.sum(x))\n",
    "print('soma de x ao longo das linhas:',np.sum(x,axis=0))\n",
    "print('soma de x ao longo das colunas:',np.sum(x,axis=1))"
   ]
  },
  {
   "cell_type": "code",
   "execution_count": 12,
   "metadata": {},
   "outputs": [
    {
     "name": "stdout",
     "output_type": "stream",
     "text": [
      "X:\n",
      " [[ 1  3  7]\n",
      " [ 4 11 21]\n",
      " [42  8  9]]\n",
      "média de todos os elementos de x: 11.777777777777779\n",
      "média de x ao longo das linhas: [15.66666667  7.33333333 12.33333333]\n",
      "média de x ao longo das colunas: [ 3.66666667 12.         19.66666667]\n"
     ]
    }
   ],
   "source": [
    "# np.mean: média em um dado eixo, axis = {0:linha, 1:coluna}\n",
    "print('X:\\n',x)\n",
    "print('média de todos os elementos de x:',np.mean(x))\n",
    "print('média de x ao longo das linhas:',np.mean(x,axis=0))\n",
    "print('média de x ao longo das colunas:',np.mean(x,axis=1))"
   ]
  },
  {
   "cell_type": "code",
   "execution_count": 13,
   "metadata": {},
   "outputs": [
    {
     "name": "stdout",
     "output_type": "stream",
     "text": [
      "condição: \n",
      " [[False False False]\n",
      " [ True False False]\n",
      " [ True  True False]]\n",
      "índice i (linhas): [1 2 2]\n",
      "índice j (colunas): [0 0 1]\n"
     ]
    }
   ],
   "source": [
    "# np.where, identificação dos índices onde uma dada condição é atendida. Uso conjunto com indexação booleana\n",
    "cond = x % 2 == 0 # números pares\n",
    "print(\"condição: \\n\",cond)\n",
    "i, j = np.where(cond) # índices x[i,j] = x[cond]\n",
    "print('índice i (linhas):',i)\n",
    "print('índice j (colunas):',j)"
   ]
  },
  {
   "cell_type": "code",
   "execution_count": 18,
   "metadata": {},
   "outputs": [
    {
     "name": "stdout",
     "output_type": "stream",
     "text": [
      "x: \n",
      " [[ 1  3  7]\n",
      " [ 4 11 21]\n",
      " [42  8  9]]\n",
      "condição: \n",
      " [[False False False]\n",
      " [ True False False]\n",
      " [ True  True False]]\n",
      "índice das linhas que possuem números pares: [1 2]\n",
      "linhas que possuem números pares: \n",
      " [[ 4 11 21]\n",
      " [42  8  9]]\n"
     ]
    }
   ],
   "source": [
    "# indexação booleana e slicing: selecionar as linhas de x que possuem algum número par\n",
    "print('x: \\n',x)\n",
    "cond = x % 2 == 0 # números pares\n",
    "print(\"condição: \\n\",cond)\n",
    "\n",
    "## se houver alguma condição True na linha, a soma será > 0\n",
    "i_row = np.where(np.sum(cond,axis=1))[0]\n",
    "print('índice das linhas que possuem números pares:', i_row)\n",
    "print('linhas que possuem números pares: \\n', x[i_row,:])"
   ]
  },
  {
   "cell_type": "code",
   "execution_count": null,
   "metadata": {},
   "outputs": [],
   "source": []
  }
 ],
 "metadata": {
  "kernelspec": {
   "display_name": "Python 3",
   "language": "python",
   "name": "python3"
  },
  "language_info": {
   "codemirror_mode": {
    "name": "ipython",
    "version": 3
   },
   "file_extension": ".py",
   "mimetype": "text/x-python",
   "name": "python",
   "nbconvert_exporter": "python",
   "pygments_lexer": "ipython3",
   "version": "3.11.3"
  },
  "orig_nbformat": 4
 },
 "nbformat": 4,
 "nbformat_minor": 2
}
