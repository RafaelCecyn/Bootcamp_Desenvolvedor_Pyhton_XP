{
 "cells": [
  {
   "attachments": {},
   "cell_type": "markdown",
   "metadata": {},
   "source": [
    "# Numpy"
   ]
  },
  {
   "cell_type": "code",
   "execution_count": 3,
   "metadata": {},
   "outputs": [],
   "source": [
    "import numpy as np"
   ]
  },
  {
   "attachments": {},
   "cell_type": "markdown",
   "metadata": {},
   "source": [
    "## Criação de arrays"
   ]
  },
  {
   "cell_type": "code",
   "execution_count": null,
   "metadata": {},
   "outputs": [],
   "source": [
    "help(np.array)"
   ]
  },
  {
   "cell_type": "code",
   "execution_count": 5,
   "metadata": {},
   "outputs": [
    {
     "name": "stdout",
     "output_type": "stream",
     "text": [
      "x: [1 2 3]\n",
      "shape: (3,)\n"
     ]
    }
   ],
   "source": [
    "# criação de um array 1D: [1,2,3]\n",
    "l = [1,2,3]\n",
    "x = np.array(l)\n",
    "print('x:',x)\n",
    "print('shape:',x.shape)  "
   ]
  },
  {
   "cell_type": "code",
   "execution_count": 6,
   "metadata": {},
   "outputs": [
    {
     "data": {
      "text/plain": [
       "numpy.ndarray"
      ]
     },
     "execution_count": 6,
     "metadata": {},
     "output_type": "execute_result"
    }
   ],
   "source": [
    "type(x)"
   ]
  },
  {
   "cell_type": "code",
   "execution_count": 7,
   "metadata": {},
   "outputs": [
    {
     "name": "stdout",
     "output_type": "stream",
     "text": [
      "x: [[1 2]\n",
      " [3 4]]\n",
      "shape: (2, 2)\n"
     ]
    }
   ],
   "source": [
    "# criação de um array 2D: linhas aninhadas\n",
    "l = [[1,2],[3,4]]\n",
    "x = np.array(l)\n",
    "print('x:',x)\n",
    "print('shape:',x.shape)  \n"
   ]
  },
  {
   "cell_type": "code",
   "execution_count": 8,
   "metadata": {},
   "outputs": [
    {
     "data": {
      "text/plain": [
       "numpy.ndarray"
      ]
     },
     "execution_count": 8,
     "metadata": {},
     "output_type": "execute_result"
    }
   ],
   "source": [
    "type(x)\n"
   ]
  },
  {
   "cell_type": "code",
   "execution_count": null,
   "metadata": {},
   "outputs": [],
   "source": [
    "help(np.zeros)"
   ]
  },
  {
   "cell_type": "code",
   "execution_count": 17,
   "metadata": {},
   "outputs": [
    {
     "name": "stdout",
     "output_type": "stream",
     "text": [
      "x:\n",
      " [[0. 0. 0.]\n",
      " [0. 0. 0.]\n",
      " [0. 0. 0.]]\n",
      "shape: (3, 3)\n"
     ]
    }
   ],
   "source": [
    "# array contendo apenas ZEROS\n",
    "dim = (3,3) # (linhas,colunas)\n",
    "x = np.zeros(dim)\n",
    "print('x:\\n',x)\n",
    "print('shape:',x.shape)  "
   ]
  },
  {
   "cell_type": "code",
   "execution_count": 18,
   "metadata": {},
   "outputs": [
    {
     "name": "stdout",
     "output_type": "stream",
     "text": [
      "x:\n",
      " [[1. 1.]\n",
      " [1. 1.]]\n",
      "shape: (2, 2)\n"
     ]
    }
   ],
   "source": [
    "# array contendo apenas UNS\n",
    "size = (2,2) # (linhas,colunas)\n",
    "x = np.ones(size)\n",
    "print('x:\\n',x)\n",
    "print('shape:',x.shape)  "
   ]
  },
  {
   "cell_type": "code",
   "execution_count": null,
   "metadata": {},
   "outputs": [],
   "source": [
    "# np.linspace?"
   ]
  },
  {
   "cell_type": "code",
   "execution_count": 21,
   "metadata": {},
   "outputs": [
    {
     "name": "stdout",
     "output_type": "stream",
     "text": [
      "x:\n",
      " [ 5.  7.  9. 11. 13. 15.]\n",
      "shape: (6,)\n"
     ]
    }
   ],
   "source": [
    "# criação de valores dentro de um intervalo\n",
    "# valores uniformes entre 5 e 15\n",
    "x_min,x_max = 5,15\n",
    "x = np.linspace(x_min,x_max,num=6)\n",
    "print('x:\\n',x)\n",
    "print('shape:',x.shape)  "
   ]
  },
  {
   "cell_type": "code",
   "execution_count": 22,
   "metadata": {},
   "outputs": [
    {
     "name": "stdout",
     "output_type": "stream",
     "text": [
      "x:\n",
      " [[1. 0. 0. 0.]\n",
      " [0. 1. 0. 0.]\n",
      " [0. 0. 1. 0.]\n",
      " [0. 0. 0. 1.]]\n",
      "shape: (4, 4)\n"
     ]
    }
   ],
   "source": [
    "# criação de uma matriz identidade\n",
    "n = 4\n",
    "x = np.eye(n)\n",
    "print('x:\\n',x)\n",
    "print('shape:',x.shape) "
   ]
  },
  {
   "cell_type": "code",
   "execution_count": 23,
   "metadata": {},
   "outputs": [
    {
     "name": "stdout",
     "output_type": "stream",
     "text": [
      "x:\n",
      " [[0.93580292 0.00820154 0.84481465]\n",
      " [0.02041722 0.96996738 0.12916315]]\n",
      "shape: (2, 3)\n"
     ]
    }
   ],
   "source": [
    "# criação de valores aleatórios\n",
    "# np.random.seed(10)\n",
    "\n",
    "x = np.random.random(size=(2,3))\n",
    "print('x:\\n',x)\n",
    "print('shape:',x.shape) \n"
   ]
  },
  {
   "cell_type": "code",
   "execution_count": null,
   "metadata": {},
   "outputs": [],
   "source": []
  }
 ],
 "metadata": {
  "kernelspec": {
   "display_name": "Python 3",
   "language": "python",
   "name": "python3"
  },
  "language_info": {
   "codemirror_mode": {
    "name": "ipython",
    "version": 3
   },
   "file_extension": ".py",
   "mimetype": "text/x-python",
   "name": "python",
   "nbconvert_exporter": "python",
   "pygments_lexer": "ipython3",
   "version": "3.11.3"
  },
  "orig_nbformat": 4
 },
 "nbformat": 4,
 "nbformat_minor": 2
}
