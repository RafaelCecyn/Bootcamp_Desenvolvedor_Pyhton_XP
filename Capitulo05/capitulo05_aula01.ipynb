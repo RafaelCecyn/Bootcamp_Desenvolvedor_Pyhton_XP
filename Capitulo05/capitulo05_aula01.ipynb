{
 "cells": [
  {
   "attachments": {},
   "cell_type": "markdown",
   "metadata": {},
   "source": [
    "# Capítulo 05 - Estruturas de Dados em Python"
   ]
  },
  {
   "attachments": {},
   "cell_type": "markdown",
   "metadata": {},
   "source": [
    "# Aula 02 - Listas (list)"
   ]
  },
  {
   "attachments": {},
   "cell_type": "markdown",
   "metadata": {},
   "source": [
    "### Criação das listas e acesso dos elementos"
   ]
  },
  {
   "cell_type": "code",
   "execution_count": 1,
   "metadata": {},
   "outputs": [
    {
     "data": {
      "text/plain": [
       "[2, 'a', 5.4, True]"
      ]
     },
     "execution_count": 1,
     "metadata": {},
     "output_type": "execute_result"
    }
   ],
   "source": [
    "# Lista com valores heterogêneos\n",
    "[2, 'a',5.4, True]"
   ]
  },
  {
   "cell_type": "code",
   "execution_count": 3,
   "metadata": {},
   "outputs": [
    {
     "name": "stdout",
     "output_type": "stream",
     "text": [
      "[1, 2, 3, 4]\n",
      "[4, 3, 2, 1]\n"
     ]
    }
   ],
   "source": [
    "lista1 = [1,2,3,4]\n",
    "lista2 = [4,3,2,1]\n",
    "print(lista1)\n",
    "print(lista2)"
   ]
  },
  {
   "cell_type": "code",
   "execution_count": 4,
   "metadata": {},
   "outputs": [
    {
     "data": {
      "text/plain": [
       "False"
      ]
     },
     "execution_count": 4,
     "metadata": {},
     "output_type": "execute_result"
    }
   ],
   "source": [
    "lista1 == lista2"
   ]
  },
  {
   "cell_type": "code",
   "execution_count": 5,
   "metadata": {},
   "outputs": [
    {
     "data": {
      "text/plain": [
       "['um', 'dois', None, 4]"
      ]
     },
     "execution_count": 5,
     "metadata": {},
     "output_type": "execute_result"
    }
   ],
   "source": [
    "# Lista com elementos nulos\n",
    "['um','dois',None,4]"
   ]
  },
  {
   "cell_type": "code",
   "execution_count": 6,
   "metadata": {},
   "outputs": [
    {
     "data": {
      "text/plain": [
       "[[0, 1], 'dois', 'tres', [4, 5], 'seis']"
      ]
     },
     "execution_count": 6,
     "metadata": {},
     "output_type": "execute_result"
    }
   ],
   "source": [
    "# Listas com outras listas dentro (listas aninhadas)\n",
    "l = [0,1]\n",
    "[l,'dois','tres',[4,5],'seis']"
   ]
  },
  {
   "cell_type": "code",
   "execution_count": 7,
   "metadata": {},
   "outputs": [
    {
     "data": {
      "text/plain": [
       "[]"
      ]
     },
     "execution_count": 7,
     "metadata": {},
     "output_type": "execute_result"
    }
   ],
   "source": [
    "# Lista vazia\n",
    "l = []\n",
    "l"
   ]
  },
  {
   "cell_type": "code",
   "execution_count": 12,
   "metadata": {},
   "outputs": [
    {
     "name": "stdout",
     "output_type": "stream",
     "text": [
      "2\n",
      "True\n",
      "Casa\n",
      "['a', 5.44, True]\n",
      "[None, 'Casa']\n",
      "[2, 'a', 5.44, True, None, 'Casa']\n"
     ]
    }
   ],
   "source": [
    "lista = [2,'a',5.44,True,None,'Casa']\n",
    "# Acesso por índices\n",
    "print(lista[0])\n",
    "print(lista[3])\n",
    "print(lista[-1])\n",
    "# Acesso por slices\n",
    "print(lista[1:4])\n",
    "print(lista[-2:])\n",
    "print(lista[:])"
   ]
  },
  {
   "attachments": {},
   "cell_type": "markdown",
   "metadata": {},
   "source": [
    "## Solução maior idade"
   ]
  },
  {
   "cell_type": "code",
   "execution_count": 15,
   "metadata": {},
   "outputs": [
    {
     "name": "stdout",
     "output_type": "stream",
     "text": [
      "A maior idade é:  49\n"
     ]
    }
   ],
   "source": [
    "idades = [27,49,12]\n",
    "\n",
    "maior_idade = idades[0]\n",
    "\n",
    "for i in idades:\n",
    "    if i > maior_idade:\n",
    "        maior_idade = i\n",
    "\n",
    "print('A maior idade é: ',maior_idade)"
   ]
  },
  {
   "attachments": {},
   "cell_type": "markdown",
   "metadata": {},
   "source": [
    "# Alteração da lista"
   ]
  },
  {
   "cell_type": "code",
   "execution_count": 17,
   "metadata": {},
   "outputs": [
    {
     "name": "stdout",
     "output_type": "stream",
     "text": [
      "[2, 'a', 'b', 'c', 5.44, True]\n"
     ]
    }
   ],
   "source": [
    "lista = [2, 'a','b','c',5.44,True]\n",
    "print(lista)"
   ]
  },
  {
   "cell_type": "code",
   "execution_count": 18,
   "metadata": {},
   "outputs": [],
   "source": [
    "# Adiciona um novo elemento na lista: Método append\n",
    "lista.append(999)"
   ]
  },
  {
   "cell_type": "code",
   "execution_count": 19,
   "metadata": {},
   "outputs": [
    {
     "data": {
      "text/plain": [
       "[2, 'a', 'b', 'c', 5.44, True, 999]"
      ]
     },
     "execution_count": 19,
     "metadata": {},
     "output_type": "execute_result"
    }
   ],
   "source": [
    "lista"
   ]
  },
  {
   "cell_type": "code",
   "execution_count": 20,
   "metadata": {},
   "outputs": [],
   "source": [
    "lista.append(None)\n",
    "lista.append(21/2)\n",
    "lista.append(2 == 5)"
   ]
  },
  {
   "cell_type": "code",
   "execution_count": 21,
   "metadata": {},
   "outputs": [
    {
     "data": {
      "text/plain": [
       "[2, 'a', 'b', 'c', 5.44, True, 999, None, 10.5, False]"
      ]
     },
     "execution_count": 21,
     "metadata": {},
     "output_type": "execute_result"
    }
   ],
   "source": [
    "lista"
   ]
  },
  {
   "cell_type": "code",
   "execution_count": 23,
   "metadata": {},
   "outputs": [
    {
     "name": "stdout",
     "output_type": "stream",
     "text": [
      "[2, 'a', 'b', 'a', 5.44, True, 999, None, 11.5, False]\n"
     ]
    }
   ],
   "source": [
    "# Altera o valor do quarto e o do último elemento\n",
    "lista[3] = 'a'\n",
    "lista[-2] = lista[-2] + 1\n",
    "print(lista)"
   ]
  },
  {
   "cell_type": "code",
   "execution_count": 24,
   "metadata": {},
   "outputs": [
    {
     "name": "stdout",
     "output_type": "stream",
     "text": [
      "[2, 'b', 'a', 5.44, True, 999, None, 11.5, False]\n"
     ]
    }
   ],
   "source": [
    "# Remove a primeira ocorrência do elemento 'a'\n",
    "lista.remove('a')\n",
    "print(lista)"
   ]
  },
  {
   "attachments": {},
   "cell_type": "markdown",
   "metadata": {},
   "source": [
    "# Funções, Operadores e Métodos"
   ]
  },
  {
   "cell_type": "code",
   "execution_count": 27,
   "metadata": {},
   "outputs": [
    {
     "name": "stdout",
     "output_type": "stream",
     "text": [
      "[30, 10, 20, 2, 'a', 5.44, True]\n",
      "[30, 10, 20, 30, 10, 20, 30, 10, 20]\n",
      "True\n"
     ]
    }
   ],
   "source": [
    "lista1 = [30,10,20]\n",
    "lista2 = [2,'a',5.44,True]\n",
    "\n",
    "# Operadores de concatenação (+), repetição (*) e filiação (in)\n",
    "\n",
    "print(lista1+lista2)\n",
    "print(lista1*3)\n",
    "print(10 in lista1)"
   ]
  },
  {
   "cell_type": "code",
   "execution_count": 28,
   "metadata": {},
   "outputs": [
    {
     "name": "stdout",
     "output_type": "stream",
     "text": [
      "3\n",
      "60\n",
      "30\n"
     ]
    }
   ],
   "source": [
    "# Funções úteis\n",
    "print(len(lista1)) # Comprimento da lista\n",
    "print(sum(lista1)) # Retorna a soma dos elementos\n",
    "print(max(lista1)) # Retorna o valor máximo da lista, somente para números"
   ]
  },
  {
   "cell_type": "code",
   "execution_count": 37,
   "metadata": {},
   "outputs": [
    {
     "name": "stdout",
     "output_type": "stream",
     "text": [
      "[5.44, 'novo valor', 'novo valor', 'novo valor', 'novo valor', 'a']\n",
      "[10, 10, 10, 10, 10, 10, 10, 10, 10, 10, 10, 10, 10, 10, 10, 20, 20, 20, 20, 20, 20, 20, 20, 30, 30, 30, 30, 30, 30, 30, 30, 40, 40, 40, 40, 40, 40, 40, 10, 20, 30, 40, 10]\n",
      "[10, 10, 10, 10, 10, 10, 10, 10, 10, 10, 10, 10, 10, 10, 10, 10, 10, 20, 20, 20, 20, 20, 20, 20, 20, 20, 30, 30, 30, 30, 30, 30, 30, 30, 30, 40, 40, 40, 40, 40, 40, 40, 40]\n",
      "[5.44, 'novo valor', 'novo valor', 'novo valor', 'novo valor', 'novo valor', 'a']\n",
      "[5.44, 'novo valor', 'novo valor', 'novo valor', 'novo valor', 'novo valor']\n",
      "[]\n"
     ]
    }
   ],
   "source": [
    "# Métodos que alteram os valores internos da lista\n",
    "\n",
    "lista2.reverse()\n",
    "print(lista2)\n",
    "lista1.extend([10,20,30,40,10]) # Adiciona vários elementos\n",
    "print(lista1)\n",
    "lista1.sort() # Ordena os valores da lista\n",
    "print(lista1)\n",
    "lista2.insert(2,'novo valor') # Adiciona um elemento num índice específico\n",
    "print(lista2)\n",
    "lista2.pop() # Remove o último elemento\n",
    "print(lista2)\n",
    "lista2.clear() # Remove todos os elementos\n",
    "print(lista2)"
   ]
  },
  {
   "cell_type": "code",
   "execution_count": 38,
   "metadata": {},
   "outputs": [
    {
     "data": {
      "text/plain": [
       "[10,\n",
       " 10,\n",
       " 10,\n",
       " 10,\n",
       " 10,\n",
       " 10,\n",
       " 10,\n",
       " 10,\n",
       " 10,\n",
       " 10,\n",
       " 10,\n",
       " 10,\n",
       " 10,\n",
       " 10,\n",
       " 10,\n",
       " 10,\n",
       " 10,\n",
       " 20,\n",
       " 20,\n",
       " 20,\n",
       " 20,\n",
       " 20,\n",
       " 20,\n",
       " 20,\n",
       " 20,\n",
       " 20,\n",
       " 30,\n",
       " 30,\n",
       " 30,\n",
       " 30,\n",
       " 30,\n",
       " 30,\n",
       " 30,\n",
       " 30,\n",
       " 30,\n",
       " 40,\n",
       " 40,\n",
       " 40,\n",
       " 40,\n",
       " 40,\n",
       " 40,\n",
       " 40,\n",
       " 40]"
      ]
     },
     "execution_count": 38,
     "metadata": {},
     "output_type": "execute_result"
    }
   ],
   "source": [
    "lista1"
   ]
  },
  {
   "cell_type": "code",
   "execution_count": 39,
   "metadata": {},
   "outputs": [
    {
     "name": "stdout",
     "output_type": "stream",
     "text": [
      "35\n",
      "17\n"
     ]
    }
   ],
   "source": [
    "# Metodos que retornam valores e não alteram a lista\n",
    "print(lista1.index(40)) # Retorna o índice da primeira ocorrência\n",
    "print(lista1.count(10)) # Conta as ocorrências do elemento"
   ]
  },
  {
   "cell_type": "code",
   "execution_count": 42,
   "metadata": {},
   "outputs": [
    {
     "name": "stdout",
     "output_type": "stream",
     "text": [
      "88\n"
     ]
    }
   ],
   "source": [
    "idades2 = [1,2,3,4,5,77,88]\n",
    "print(max(idades2))"
   ]
  },
  {
   "cell_type": "code",
   "execution_count": null,
   "metadata": {},
   "outputs": [],
   "source": []
  }
 ],
 "metadata": {
  "kernelspec": {
   "display_name": "Python 3",
   "language": "python",
   "name": "python3"
  },
  "language_info": {
   "codemirror_mode": {
    "name": "ipython",
    "version": 3
   },
   "file_extension": ".py",
   "mimetype": "text/x-python",
   "name": "python",
   "nbconvert_exporter": "python",
   "pygments_lexer": "ipython3",
   "version": "3.11.1"
  },
  "orig_nbformat": 4
 },
 "nbformat": 4,
 "nbformat_minor": 2
}
