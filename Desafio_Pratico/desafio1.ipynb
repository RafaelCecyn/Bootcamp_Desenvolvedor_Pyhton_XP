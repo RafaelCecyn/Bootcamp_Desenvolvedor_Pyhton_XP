{
 "cells": [
  {
   "cell_type": "code",
   "execution_count": 43,
   "metadata": {},
   "outputs": [
    {
     "name": "stdout",
     "output_type": "stream",
     "text": [
      "{'Maria': 5, 'Julieta': 7, 'Fernando': 8, 'Cristiano': 9, 'Cláudio': 7}\n"
     ]
    }
   ],
   "source": [
    "# ATIVIDADE 1\n",
    "# relação dos nomes\n",
    "nomes = ['Maria','Julieta','Fernando','Cristiano','Julieta','Maria','Fernando','Cláudio']\n",
    "# estrutura que irá armazenar o número de letras de cada nome\n",
    "qtd_letras = {}\n",
    "\n",
    "# calcula o tamanho de cada nome (em número de letras) e armazena o valor na estrutura\n",
    "for nome in nomes:\n",
    "    qtd_letras[nome] = len(nome)\n",
    "print(qtd_letras)"
   ]
  },
  {
   "cell_type": "code",
   "execution_count": 44,
   "metadata": {},
   "outputs": [],
   "source": [
    "# type(nomes) type(qtd_letras)"
   ]
  },
  {
   "cell_type": "code",
   "execution_count": 46,
   "metadata": {},
   "outputs": [
    {
     "name": "stdout",
     "output_type": "stream",
     "text": [
      "8\n",
      "5\n"
     ]
    }
   ],
   "source": [
    "print(len(nomes))\n",
    "print(len(qtd_letras))\n"
   ]
  },
  {
   "cell_type": "code",
   "execution_count": 29,
   "metadata": {},
   "outputs": [
    {
     "name": "stdout",
     "output_type": "stream",
     "text": [
      "{'Maria': 5, 'Julieta': 7, 'Fernando': 8, 'Cristiano': 9, 'Cláudio': 7}\n"
     ]
    }
   ],
   "source": [
    "# ATIVIDADE 2\n",
    "# Reescreva o código da Atividade 01 utilizando o conceito de compreensão de dicionários (dict comprehension).\n",
    "nomes = ['Maria','Julieta','Fernando','Cristiano','Julieta','Maria','Fernando','Cláudio']\n",
    "qtd_letras = {nome:len(nome) for nome in nomes}\n",
    "print(qtd_letras)\n"
   ]
  },
  {
   "cell_type": "code",
   "execution_count": 30,
   "metadata": {},
   "outputs": [
    {
     "name": "stdout",
     "output_type": "stream",
     "text": [
      "200.96\n",
      "201.061888\n"
     ]
    }
   ],
   "source": [
    "# ATIVIDADE 3\n",
    "# Crie uma função area(r, pi), que calcule a área de um círculo.\n",
    "# A área de um círculo é dada por 𝑎 = 𝜋𝑟 ** 2\n",
    "# , onde:\n",
    "# • 𝜋 é o número pi, cujo valor é ~3,14159265359\n",
    "# • 𝑟 é o raio do círculo\n",
    "# Esta função deve receber dois argumentos, r e pi, e retornar a área de um círculo\n",
    "# com raio r. Entretanto, você deve fornecer duas opções de utilização da função: \n",
    "\n",
    "def area_circulo(r,pi=3.14):\n",
    "    return pi * (r ** 2)\n",
    "\n",
    "print(area_circulo(8))\n",
    "print(area_circulo(8,3.141592))\n",
    "\n"
   ]
  },
  {
   "cell_type": "code",
   "execution_count": 31,
   "metadata": {},
   "outputs": [
    {
     "name": "stdout",
     "output_type": "stream",
     "text": [
      "200.96\n",
      "201.061888\n"
     ]
    }
   ],
   "source": [
    "# ATIVIDADE 4\n",
    "# Reescreva a função area da atividade 3, utilizando o conceito de\n",
    "# funções anônimas (funções lambdas).\n",
    "\n",
    "area_circ = lambda r,pi=3.14: pi * (r**2)\n",
    "\n",
    "print(area_circ(8))\n",
    "print(area_circ(8,3.141592))"
   ]
  },
  {
   "cell_type": "code",
   "execution_count": 35,
   "metadata": {},
   "outputs": [
    {
     "ename": "AttributeError",
     "evalue": "module 'processalista' has no attribute 'menor_maior_impar'",
     "output_type": "error",
     "traceback": [
      "\u001b[1;31m---------------------------------------------------------------------------\u001b[0m",
      "\u001b[1;31mAttributeError\u001b[0m                            Traceback (most recent call last)",
      "Cell \u001b[1;32mIn[35], line 8\u001b[0m\n\u001b[0;32m      1\u001b[0m \u001b[39m# ATIVIDADE 5\u001b[39;00m\n\u001b[0;32m      2\u001b[0m \u001b[39m# Crie um módulo em Python, chamado processalista (arquivo processalista.py),\u001b[39;00m\n\u001b[0;32m      3\u001b[0m \u001b[39m# com as seguintes funções, que deverão receber como argumento uma lista (tipo\u001b[39;00m\n\u001b[0;32m      4\u001b[0m \u001b[39m# list) de números inteiros\u001b[39;00m\n\u001b[0;32m      6\u001b[0m \u001b[39mimport\u001b[39;00m \u001b[39mprocessalista\u001b[39;00m\n\u001b[1;32m----> 8\u001b[0m processalista\u001b[39m.\u001b[39;49mmenor_maior_impar()\n\u001b[0;32m     10\u001b[0m processalista\u001b[39m.\u001b[39mmaior_impar([\u001b[39m1\u001b[39m,\u001b[39m3\u001b[39m,\u001b[39m5\u001b[39m,\u001b[39m7\u001b[39m,\u001b[39m9\u001b[39m])\n",
      "\u001b[1;31mAttributeError\u001b[0m: module 'processalista' has no attribute 'menor_maior_impar'"
     ]
    }
   ],
   "source": [
    "# ATIVIDADE 5\n",
    "# Crie um módulo em Python, chamado processalista (arquivo processalista.py),\n",
    "# com as seguintes funções, que deverão receber como argumento uma lista (tipo\n",
    "# list) de números inteiros\n",
    "\n",
    "import processalista\n",
    "\n",
    "\n",
    "processalista.maior_impar([1,3,5,7,9])\n"
   ]
  },
  {
   "cell_type": "code",
   "execution_count": 33,
   "metadata": {},
   "outputs": [
    {
     "data": {
      "text/plain": [
       "1"
      ]
     },
     "execution_count": 33,
     "metadata": {},
     "output_type": "execute_result"
    }
   ],
   "source": [
    "processalista.menor_impar([1,3,5,7,9])"
   ]
  },
  {
   "cell_type": "code",
   "execution_count": 34,
   "metadata": {},
   "outputs": [
    {
     "ename": "AttributeError",
     "evalue": "module 'processalista' has no attribute 'menor_maior_impar'",
     "output_type": "error",
     "traceback": [
      "\u001b[1;31m---------------------------------------------------------------------------\u001b[0m",
      "\u001b[1;31mAttributeError\u001b[0m                            Traceback (most recent call last)",
      "Cell \u001b[1;32mIn[34], line 1\u001b[0m\n\u001b[1;32m----> 1\u001b[0m processalista\u001b[39m.\u001b[39;49mmenor_maior_impar([\u001b[39m1\u001b[39m,\u001b[39m3\u001b[39m])\n",
      "\u001b[1;31mAttributeError\u001b[0m: module 'processalista' has no attribute 'menor_maior_impar'"
     ]
    }
   ],
   "source": [
    "processalista.menor_maior_impar([1,3])"
   ]
  },
  {
   "cell_type": "code",
   "execution_count": null,
   "metadata": {},
   "outputs": [
    {
     "name": "stdout",
     "output_type": "stream",
     "text": [
      "{'terca', 'quinta'}\n",
      "{'sexta'}\n"
     ]
    }
   ],
   "source": [
    "# Atividade 6\n",
    "# Para tanto, irá desenvolver duas funções que receberão a relação de disponibilidade de\n",
    "# cada médico e que retornarão os dias disponíveis:\n",
    "\n",
    "# relação de dias da semana que cada médico atende\n",
    "cardiologista = {'terca', 'quarta'}\n",
    "ortopedista = {'terca', 'quinta'}\n",
    "dermatologista = {'segunda', 'quarta', 'sexta'}\n",
    "neurologista = {'terca', 'quinta', 'sexta'}\n",
    "psiquiatra = {'segunda', 'quarta', 'sexta'}\n",
    "\n",
    "# Calcula quais os dias possíveis para dois médicos\n",
    "def disp_dois_especialistas(medico01, medico02):\n",
    "        return medico01.intersection(medico02)\n",
    "\n",
    "# Calcula quais os dias possíveis para três médicos\n",
    "def disp_tres_especialistas(medico01, medico02, medico03):\n",
    "        return medico01.intersection(medico02).intersection(medico03)\n",
    "\n",
    "        \n",
    "print(disp_dois_especialistas(ortopedista, neurologista))\n",
    "print(disp_tres_especialistas(dermatologista, neurologista, psiquiatra))\n"
   ]
  },
  {
   "cell_type": "code",
   "execution_count": 41,
   "metadata": {},
   "outputs": [
    {
     "data": {
      "text/plain": [
       "5"
      ]
     },
     "execution_count": 41,
     "metadata": {},
     "output_type": "execute_result"
    }
   ],
   "source": [
    "len({1, 3, 1, 4, 3, 2, 2, 0, 4})"
   ]
  },
  {
   "cell_type": "code",
   "execution_count": 42,
   "metadata": {},
   "outputs": [
    {
     "data": {
      "text/plain": [
       "[2.0, 2.5, 3.0, 3.5, 4.0, 4.5]"
      ]
     },
     "execution_count": 42,
     "metadata": {},
     "output_type": "execute_result"
    }
   ],
   "source": [
    "[n/2 for n in range(0, 10) if n > 3]"
   ]
  },
  {
   "cell_type": "code",
   "execution_count": null,
   "metadata": {},
   "outputs": [],
   "source": []
  }
 ],
 "metadata": {
  "kernelspec": {
   "display_name": "Python 3",
   "language": "python",
   "name": "python3"
  },
  "language_info": {
   "codemirror_mode": {
    "name": "ipython",
    "version": 3
   },
   "file_extension": ".py",
   "mimetype": "text/x-python",
   "name": "python",
   "nbconvert_exporter": "python",
   "pygments_lexer": "ipython3",
   "version": "3.11.3"
  },
  "orig_nbformat": 4
 },
 "nbformat": 4,
 "nbformat_minor": 2
}
