{
 "cells": [
  {
   "cell_type": "code",
   "execution_count": 11,
   "metadata": {},
   "outputs": [
    {
     "name": "stdout",
     "output_type": "stream",
     "text": [
      "{'Maria': 5, 'Julieta': 7, 'Fernando': 8, 'Cristiano': 9, 'Cláudio': 7}\n"
     ]
    }
   ],
   "source": [
    "# relação dos nomes\n",
    "nomes = ['Maria','Julieta','Fernando','Cristiano','Julieta','Maria','Fernando','Cláudio']\n",
    "# estrutura que irá armazenar o número de letras de cada nome\n",
    "qtd_letras = {}\n",
    "\n",
    "# calcula o tamanho de cada nome (em número de letras) e armazena o valor na estrutura\n",
    "for nome in nomes:\n",
    "    qtd_letras[nome] = len(nome)\n",
    "print(qtd_letras)"
   ]
  },
  {
   "cell_type": "code",
   "execution_count": null,
   "metadata": {},
   "outputs": [],
   "source": []
  }
 ],
 "metadata": {
  "kernelspec": {
   "display_name": "Python 3",
   "language": "python",
   "name": "python3"
  },
  "language_info": {
   "codemirror_mode": {
    "name": "ipython",
    "version": 3
   },
   "file_extension": ".py",
   "mimetype": "text/x-python",
   "name": "python",
   "nbconvert_exporter": "python",
   "pygments_lexer": "ipython3",
   "version": "3.11.3"
  },
  "orig_nbformat": 4
 },
 "nbformat": 4,
 "nbformat_minor": 2
}
