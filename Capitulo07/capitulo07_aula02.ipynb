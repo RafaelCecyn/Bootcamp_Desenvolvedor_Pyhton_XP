{
 "cells": [
  {
   "attachments": {},
   "cell_type": "markdown",
   "metadata": {},
   "source": [
    "# Capítulo 07 - Módulos"
   ]
  },
  {
   "attachments": {},
   "cell_type": "markdown",
   "metadata": {},
   "source": [
    "## Aula 02 - Módulos Embutidos do Python"
   ]
  },
  {
   "attachments": {},
   "cell_type": "markdown",
   "metadata": {},
   "source": [
    "## Módulo math: modulo com funções matemáticas para cálculos mais complexos"
   ]
  },
  {
   "cell_type": "code",
   "execution_count": 16,
   "metadata": {},
   "outputs": [
    {
     "name": "stdout",
     "output_type": "stream",
     "text": [
      "Função cosseno:  0.8623188722876839\n",
      "Função log 2.302585092994046\n"
     ]
    }
   ],
   "source": [
    "import math\n",
    "print('Função cosseno: ',math.cos(100))\n",
    "print('Função log', math.log(10))"
   ]
  },
  {
   "attachments": {},
   "cell_type": "markdown",
   "metadata": {},
   "source": [
    "## Módulo itertools: modulo para construção de sequências elaboradas"
   ]
  },
  {
   "cell_type": "code",
   "execution_count": 17,
   "metadata": {},
   "outputs": [
    {
     "name": "stdout",
     "output_type": "stream",
     "text": [
      "[('A', 'B', 'C'), ('A', 'B', 'D'), ('A', 'C', 'D'), ('B', 'C', 'D')]\n"
     ]
    }
   ],
   "source": [
    "import itertools\n",
    "\n",
    "# Combinação de 3 em 3\n",
    "print(list(itertools.combinations('ABCD',3)))"
   ]
  },
  {
   "cell_type": "code",
   "execution_count": 18,
   "metadata": {},
   "outputs": [
    {
     "name": "stdout",
     "output_type": "stream",
     "text": [
      "[('A', 'B', 'C'), ('A', 'C', 'B'), ('B', 'A', 'C'), ('B', 'C', 'A'), ('C', 'A', 'B'), ('C', 'B', 'A')]\n"
     ]
    }
   ],
   "source": [
    "# Permutação de 2 em 2\n",
    "print(list(itertools.permutations('ABC',3)))"
   ]
  },
  {
   "attachments": {},
   "cell_type": "markdown",
   "metadata": {},
   "source": [
    "## Módulo Datetime"
   ]
  },
  {
   "cell_type": "code",
   "execution_count": 21,
   "metadata": {},
   "outputs": [
    {
     "name": "stdout",
     "output_type": "stream",
     "text": [
      "Hora atual:  2023-04-26 13:27:20.574761\n"
     ]
    }
   ],
   "source": [
    "from datetime import datetime,timedelta\n",
    "print(\"Hora atual: \", datetime.now())"
   ]
  },
  {
   "cell_type": "code",
   "execution_count": 25,
   "metadata": {},
   "outputs": [
    {
     "name": "stdout",
     "output_type": "stream",
     "text": [
      "Hora atual mais 1 semana:  2023-05-03 13:29:03.890866\n"
     ]
    }
   ],
   "source": [
    "print(\"Hora atual mais 1 semana: \", datetime.now() + timedelta(days=7))"
   ]
  },
  {
   "attachments": {},
   "cell_type": "markdown",
   "metadata": {},
   "source": [
    "## Módulo Random"
   ]
  },
  {
   "cell_type": "code",
   "execution_count": 19,
   "metadata": {},
   "outputs": [
    {
     "name": "stdout",
     "output_type": "stream",
     "text": [
      "Número aleatório entre 0 e 1 =  0.511508991149145\n"
     ]
    }
   ],
   "source": [
    "import random\n",
    "print(\"Número aleatório entre 0 e 1 = \",random.random())"
   ]
  },
  {
   "cell_type": "code",
   "execution_count": 20,
   "metadata": {},
   "outputs": [
    {
     "name": "stdout",
     "output_type": "stream",
     "text": [
      "Número aleatório entre 50 e 100 =  51\n"
     ]
    }
   ],
   "source": [
    "print('Número aleatório entre 50 e 100 = ', random.randint(50,100))"
   ]
  },
  {
   "attachments": {},
   "cell_type": "markdown",
   "metadata": {},
   "source": [
    "## Módulo OS"
   ]
  },
  {
   "cell_type": "code",
   "execution_count": 32,
   "metadata": {},
   "outputs": [],
   "source": [
    "import os\n",
    "os.mkdir('pasta') # cria uma pasta no diretório chamado pasta\n",
    "os.mkdir('pasta2') # cria uma pasta no diretório chamado pasta"
   ]
  },
  {
   "cell_type": "code",
   "execution_count": 39,
   "metadata": {},
   "outputs": [
    {
     "name": "stdout",
     "output_type": "stream",
     "text": [
      "Caminho completo:  /home/antonio\\pasta\\arquivo.txt\n"
     ]
    }
   ],
   "source": [
    "print('Caminho completo: ', os.path.join('/home/antonio','pasta','arquivo.txt'))"
   ]
  },
  {
   "cell_type": "code",
   "execution_count": null,
   "metadata": {},
   "outputs": [],
   "source": []
  }
 ],
 "metadata": {
  "kernelspec": {
   "display_name": "Python 3",
   "language": "python",
   "name": "python3"
  },
  "language_info": {
   "codemirror_mode": {
    "name": "ipython",
    "version": 3
   },
   "file_extension": ".py",
   "mimetype": "text/x-python",
   "name": "python",
   "nbconvert_exporter": "python",
   "pygments_lexer": "ipython3",
   "version": "3.11.3"
  },
  "orig_nbformat": 4
 },
 "nbformat": 4,
 "nbformat_minor": 2
}
