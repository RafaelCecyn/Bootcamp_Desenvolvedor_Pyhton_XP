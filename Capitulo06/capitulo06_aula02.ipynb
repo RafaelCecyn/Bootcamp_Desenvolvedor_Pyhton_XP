{
 "cells": [
  {
   "attachments": {},
   "cell_type": "markdown",
   "metadata": {},
   "source": [
    "# Capítulo 06 - Funções em Python"
   ]
  },
  {
   "attachments": {},
   "cell_type": "markdown",
   "metadata": {},
   "source": [
    "## Aula 02 - Utilização de Funções"
   ]
  },
  {
   "cell_type": "code",
   "execution_count": 2,
   "metadata": {},
   "outputs": [],
   "source": [
    "# exibe mensagem de boas-vindas à uma pessoa\n",
    "def boas_vindas(nome):\n",
    "    print(f'Olá {nome}. Seja bem vindo(a)!')\n",
    "    \n",
    "# calcula a area de um quadrado: l x l\n",
    "def area_de_quadrado(lado):\n",
    "    return lado * lado\n",
    "\n",
    "# calcula a area de um triângulo: (b x h) / 2\n",
    "def area_de_triangulo(base,altura):\n",
    "    return (base * altura) / 2"
   ]
  },
  {
   "cell_type": "code",
   "execution_count": 6,
   "metadata": {},
   "outputs": [
    {
     "name": "stdout",
     "output_type": "stream",
     "text": [
      "Olá Rafael. Seja bem vindo(a)!\n",
      "100\n",
      "12.5\n"
     ]
    }
   ],
   "source": [
    "# Realiza as chamadas das funções\n",
    "boas_vindas('Rafael')\n",
    "\n",
    "print(area_de_quadrado(10))\n",
    "\n",
    "print(area_de_triangulo(5,5))"
   ]
  },
  {
   "cell_type": "code",
   "execution_count": null,
   "metadata": {},
   "outputs": [],
   "source": []
  }
 ],
 "metadata": {
  "kernelspec": {
   "display_name": "Python 3",
   "language": "python",
   "name": "python3"
  },
  "language_info": {
   "codemirror_mode": {
    "name": "ipython",
    "version": 3
   },
   "file_extension": ".py",
   "mimetype": "text/x-python",
   "name": "python",
   "nbconvert_exporter": "python",
   "pygments_lexer": "ipython3",
   "version": "3.11.3"
  },
  "orig_nbformat": 4
 },
 "nbformat": 4,
 "nbformat_minor": 2
}
