{
 "cells": [
  {
   "attachments": {},
   "cell_type": "markdown",
   "metadata": {},
   "source": [
    "# Capítulo 06 - Funções em Python"
   ]
  },
  {
   "attachments": {},
   "cell_type": "markdown",
   "metadata": {},
   "source": [
    "## Aula 01 - Declarações de Funções"
   ]
  },
  {
   "attachments": {},
   "cell_type": "markdown",
   "metadata": {},
   "source": [
    "# Sintaxe das funções:"
   ]
  },
  {
   "cell_type": "code",
   "execution_count": null,
   "metadata": {},
   "outputs": [],
   "source": [
    "# def nome_da_funcao(argumento1,argumento2,...):\n",
    "#     <bloco de código>\n",
    "#     return resultado"
   ]
  },
  {
   "attachments": {},
   "cell_type": "markdown",
   "metadata": {},
   "source": [
    "- A palavra chave def, que define o início da declaração de uma função;\n",
    "- O identificador da função (nome_da_funcao), que deve ser único e que será utilizado para chamar esta função. Os nomes de funções\n",
    "devem seguir as mesmas regras dos nomes das variáveis.\n",
    "- Os argumentos (argumento1,argumento2) que são opcionais, são utilizados para repassar valores para as funções. Mesmo que não for passado\n",
    "nenhum argumento para a função, é necessário declarar os parênteses (nome_da_funcao())\n",
    "- O tradicional dois pontos (:) para marcar o fim da declaração e o início de um bloco indentado.\n",
    "- O bloco de código, que irá compor o corpo da função, é o conjunto de instruções responsável por realizar as computações que a função irá \n",
    "desempenhar\n",
    "- Por fim, uma instrução de retorno (return), responsável por retornar o resultado da função. Uma vez que existem funções que não retornam\n",
    "valores, sua declaração é opcional."
   ]
  },
  {
   "cell_type": "code",
   "execution_count": 13,
   "metadata": {},
   "outputs": [
    {
     "name": "stdout",
     "output_type": "stream",
     "text": [
      "Resultado: l1=15,l2=35,l3=879\n"
     ]
    }
   ],
   "source": [
    "# Primeiro vamos resolver um problema sem utilização de funções, repetindo código\n",
    "\n",
    "# define as listas com os números a serem somados\n",
    "l1 = [1,2,3,4,5]\n",
    "l2 = [3,1,5,9,0,8,2,3,4]\n",
    "l3 = [12,43,23,12,789]\n",
    "\n",
    "# itera sobre cada lista e soma seus elementos\n",
    "soma_l1 = 0\n",
    "\n",
    "for item in l1:\n",
    "    soma_l1 = soma_l1 + item\n",
    "    \n",
    "soma_l2 = 0\n",
    "\n",
    "for item in l2:\n",
    "    soma_l2 = soma_l2 + item\n",
    "    \n",
    "soma_l3 = 0\n",
    "    \n",
    "for item in l3:\n",
    "    soma_l3 = soma_l3 + item\n",
    "    \n",
    "# Exibe os resultados\n",
    "print(f'Resultado: l1={soma_l1},l2={soma_l2},l3={soma_l3}')"
   ]
  },
  {
   "cell_type": "code",
   "execution_count": 7,
   "metadata": {},
   "outputs": [],
   "source": [
    "# Vamos criar uma função que realiza a soma dos itens de uma lista\n",
    "\n",
    "def soma_de_numeros(lista):\n",
    "    soma = 0\n",
    "    for i in lista:\n",
    "        soma = soma + i\n",
    "    return soma"
   ]
  },
  {
   "cell_type": "code",
   "execution_count": 8,
   "metadata": {},
   "outputs": [
    {
     "name": "stdout",
     "output_type": "stream",
     "text": [
      "15\n",
      "35\n",
      "879\n"
     ]
    }
   ],
   "source": [
    "soma_l1 = soma_de_numeros(l1)\n",
    "print(soma_l1)\n",
    "soma_l2 = soma_de_numeros(l2)\n",
    "print(soma_l2)\n",
    "soma_l3 = soma_de_numeros(l3)\n",
    "print(soma_l3)"
   ]
  },
  {
   "cell_type": "code",
   "execution_count": 14,
   "metadata": {},
   "outputs": [],
   "source": [
    "# Vamos criar uma função que multiplica os itens\n",
    "def multiplica_numeros(lista):\n",
    "    resultado = 1\n",
    "    for i in lista:\n",
    "        resultado = resultado * i\n",
    "    return resultado\n",
    "\n"
   ]
  },
  {
   "cell_type": "code",
   "execution_count": 17,
   "metadata": {},
   "outputs": [
    {
     "name": "stdout",
     "output_type": "stream",
     "text": [
      "120\n",
      "0\n",
      "112366224\n"
     ]
    }
   ],
   "source": [
    "multiplica_l1 = multiplica_numeros(l1)\n",
    "print(multiplica_l1)\n",
    "multiplica_l2 = multiplica_numeros(l2)\n",
    "print(multiplica_l2)\n",
    "multiplica_l3 = multiplica_numeros(l3)\n",
    "print(multiplica_l3)"
   ]
  },
  {
   "cell_type": "code",
   "execution_count": 19,
   "metadata": {},
   "outputs": [
    {
     "name": "stdout",
     "output_type": "stream",
     "text": [
      "24\n"
     ]
    }
   ],
   "source": [
    "multiplica_2 = multiplica_numeros([2,3,4])\n",
    "print(multiplica_2)"
   ]
  },
  {
   "cell_type": "code",
   "execution_count": null,
   "metadata": {},
   "outputs": [],
   "source": []
  }
 ],
 "metadata": {
  "kernelspec": {
   "display_name": "Python 3",
   "language": "python",
   "name": "python3"
  },
  "language_info": {
   "codemirror_mode": {
    "name": "ipython",
    "version": 3
   },
   "file_extension": ".py",
   "mimetype": "text/x-python",
   "name": "python",
   "nbconvert_exporter": "python",
   "pygments_lexer": "ipython3",
   "version": "3.11.3"
  },
  "orig_nbformat": 4
 },
 "nbformat": 4,
 "nbformat_minor": 2
}
