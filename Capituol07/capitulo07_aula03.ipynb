{
 "cells": [
  {
   "attachments": {},
   "cell_type": "markdown",
   "metadata": {},
   "source": [
    "# Capítulo 07 - Módulos\n"
   ]
  },
  {
   "attachments": {},
   "cell_type": "markdown",
   "metadata": {},
   "source": [
    "## Aula 03 - Instalação de Novos Módulos\n"
   ]
  },
  {
   "attachments": {},
   "cell_type": "markdown",
   "metadata": {},
   "source": [
    "## A instalação de novos módulos é muito simples, por meio do comando pip:\n"
   ]
  },
  {
   "cell_type": "code",
   "execution_count": 2,
   "metadata": {},
   "outputs": [
    {
     "name": "stdout",
     "output_type": "stream",
     "text": [
      "Texto normal\n",
      "\u001b[34mTexto em azul\n",
      "\u001b[44m\u001b[37mTexto em branco com fundo azul\n",
      "\u001b[0mTexto normal novamente\n"
     ]
    }
   ],
   "source": [
    "# pip install colorama\n",
    "import colorama\n",
    "print('Texto normal')\n",
    "print(colorama.Fore.BLUE + \"Texto em azul\")\n",
    "print(colorama.Back.BLUE + colorama.Fore.WHITE + \"Texto em branco com fundo azul\")\n",
    "print(colorama.Style.RESET_ALL + \"Texto normal novamente\")\n"
   ]
  },
  {
   "cell_type": "code",
   "execution_count": 3,
   "metadata": {},
   "outputs": [],
   "source": [
    "# pip install --upgrade colorama"
   ]
  },
  {
   "cell_type": "code",
   "execution_count": null,
   "metadata": {},
   "outputs": [],
   "source": []
  }
 ],
 "metadata": {
  "kernelspec": {
   "display_name": "Python 3",
   "language": "python",
   "name": "python3"
  },
  "language_info": {
   "codemirror_mode": {
    "name": "ipython",
    "version": 3
   },
   "file_extension": ".py",
   "mimetype": "text/x-python",
   "name": "python",
   "nbconvert_exporter": "python",
   "pygments_lexer": "ipython3",
   "version": "3.11.3"
  },
  "orig_nbformat": 4
 },
 "nbformat": 4,
 "nbformat_minor": 2
}
